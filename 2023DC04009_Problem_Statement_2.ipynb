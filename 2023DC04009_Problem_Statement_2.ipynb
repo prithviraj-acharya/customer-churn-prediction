{
 "cells": [
  {
   "cell_type": "code",
   "metadata": {
    "ExecuteTime": {
     "end_time": "2025-02-16T15:36:14.227004Z",
     "start_time": "2025-02-16T15:36:14.217941Z"
    }
   },
   "source": [
    "## REQUIRED LIBRARIES\n",
    "# For data wrangling\n",
    "import pandas as pd\n",
    "import numpy as np\n",
    "\n",
    "# For visualization\n",
    "import seaborn as sns\n",
    "import matplotlib.pyplot as plt\n",
    "import plotly.express as px\n",
    "from plotly.offline import init_notebook_mode\n",
    "\n",
    "# For preprocessing and modeling\n",
    "from sklearn.preprocessing import LabelEncoder\n",
    "from sklearn.preprocessing import MinMaxScaler\n",
    "from sklearn.ensemble import RandomForestClassifier\n",
    "\n",
    "#Model building\n",
    "from sklearn.tree import DecisionTreeClassifier\n",
    "from sklearn.model_selection import GridSearchCV, train_test_split\n",
    "from sklearn.metrics import accuracy_score, precision_score, recall_score, f1_score, roc_auc_score\n",
    "\n",
    "\n",
    "\n",
    "\n",
    "init_notebook_mode(connected=True)\n",
    "\n"
   ],
   "outputs": [
    {
     "data": {
      "text/html": [
       "        <script type=\"text/javascript\">\n",
       "        window.PlotlyConfig = {MathJaxConfig: 'local'};\n",
       "        if (window.MathJax && window.MathJax.Hub && window.MathJax.Hub.Config) {window.MathJax.Hub.Config({SVG: {font: \"STIX-Web\"}});}\n",
       "        if (typeof require !== 'undefined') {\n",
       "        require.undef(\"plotly\");\n",
       "        requirejs.config({\n",
       "            paths: {\n",
       "                'plotly': ['https://cdn.plot.ly/plotly-2.12.1.min']\n",
       "            }\n",
       "        });\n",
       "        require(['plotly'], function(Plotly) {\n",
       "            window._Plotly = Plotly;\n",
       "        });\n",
       "        }\n",
       "        </script>\n",
       "        "
      ]
     },
     "metadata": {},
     "output_type": "display_data"
    }
   ],
   "execution_count": 246
  },
  {
   "cell_type": "code",
   "metadata": {
    "ExecuteTime": {
     "end_time": "2025-02-16T15:36:14.307580Z",
     "start_time": "2025-02-16T15:36:14.257467Z"
    }
   },
   "source": [
    "df = pd.read_csv('customer_churn_dataset.csv')\n",
    "df.head(2)"
   ],
   "outputs": [
    {
     "data": {
      "text/plain": [
       "  customerID  gender  SeniorCitizen Partner Dependents  tenure PhoneService  \\\n",
       "0     Cust_1    Male            0.0     Yes         No     2.0          Yes   \n",
       "1     Cust_2  Female            1.0      No         No     NaN          Yes   \n",
       "\n",
       "  MultipleLines InternetService OnlineSecurity         OnlineBackup  Churn  \n",
       "0            No             NaN             No  No internet service      1  \n",
       "1            No     Fiber optic            Yes                  Yes      0  "
      ],
      "text/html": [
       "<div>\n",
       "<style scoped>\n",
       "    .dataframe tbody tr th:only-of-type {\n",
       "        vertical-align: middle;\n",
       "    }\n",
       "\n",
       "    .dataframe tbody tr th {\n",
       "        vertical-align: top;\n",
       "    }\n",
       "\n",
       "    .dataframe thead th {\n",
       "        text-align: right;\n",
       "    }\n",
       "</style>\n",
       "<table border=\"1\" class=\"dataframe\">\n",
       "  <thead>\n",
       "    <tr style=\"text-align: right;\">\n",
       "      <th></th>\n",
       "      <th>customerID</th>\n",
       "      <th>gender</th>\n",
       "      <th>SeniorCitizen</th>\n",
       "      <th>Partner</th>\n",
       "      <th>Dependents</th>\n",
       "      <th>tenure</th>\n",
       "      <th>PhoneService</th>\n",
       "      <th>MultipleLines</th>\n",
       "      <th>InternetService</th>\n",
       "      <th>OnlineSecurity</th>\n",
       "      <th>OnlineBackup</th>\n",
       "      <th>Churn</th>\n",
       "    </tr>\n",
       "  </thead>\n",
       "  <tbody>\n",
       "    <tr>\n",
       "      <th>0</th>\n",
       "      <td>Cust_1</td>\n",
       "      <td>Male</td>\n",
       "      <td>0.0</td>\n",
       "      <td>Yes</td>\n",
       "      <td>No</td>\n",
       "      <td>2.0</td>\n",
       "      <td>Yes</td>\n",
       "      <td>No</td>\n",
       "      <td>NaN</td>\n",
       "      <td>No</td>\n",
       "      <td>No internet service</td>\n",
       "      <td>1</td>\n",
       "    </tr>\n",
       "    <tr>\n",
       "      <th>1</th>\n",
       "      <td>Cust_2</td>\n",
       "      <td>Female</td>\n",
       "      <td>1.0</td>\n",
       "      <td>No</td>\n",
       "      <td>No</td>\n",
       "      <td>NaN</td>\n",
       "      <td>Yes</td>\n",
       "      <td>No</td>\n",
       "      <td>Fiber optic</td>\n",
       "      <td>Yes</td>\n",
       "      <td>Yes</td>\n",
       "      <td>0</td>\n",
       "    </tr>\n",
       "  </tbody>\n",
       "</table>\n",
       "</div>"
      ]
     },
     "execution_count": 247,
     "metadata": {},
     "output_type": "execute_result"
    }
   ],
   "execution_count": 247
  },
  {
   "cell_type": "code",
   "metadata": {
    "ExecuteTime": {
     "end_time": "2025-02-16T15:36:14.600765Z",
     "start_time": "2025-02-16T15:36:14.593241Z"
    }
   },
   "source": [
    "df.shape"
   ],
   "outputs": [
    {
     "data": {
      "text/plain": [
       "(10000, 12)"
      ]
     },
     "execution_count": 248,
     "metadata": {},
     "output_type": "execute_result"
    }
   ],
   "execution_count": 248
  },
  {
   "cell_type": "code",
   "metadata": {
    "ExecuteTime": {
     "end_time": "2025-02-16T15:36:14.674779Z",
     "start_time": "2025-02-16T15:36:14.659567Z"
    }
   },
   "source": [
    "df.info()"
   ],
   "outputs": [
    {
     "name": "stdout",
     "output_type": "stream",
     "text": [
      "<class 'pandas.core.frame.DataFrame'>\n",
      "RangeIndex: 10000 entries, 0 to 9999\n",
      "Data columns (total 12 columns):\n",
      " #   Column           Non-Null Count  Dtype  \n",
      "---  ------           --------------  -----  \n",
      " 0   customerID       10000 non-null  object \n",
      " 1   gender           9000 non-null   object \n",
      " 2   SeniorCitizen    9000 non-null   float64\n",
      " 3   Partner          9000 non-null   object \n",
      " 4   Dependents       9000 non-null   object \n",
      " 5   tenure           9000 non-null   float64\n",
      " 6   PhoneService     9000 non-null   object \n",
      " 7   MultipleLines    9000 non-null   object \n",
      " 8   InternetService  9000 non-null   object \n",
      " 9   OnlineSecurity   9000 non-null   object \n",
      " 10  OnlineBackup     9000 non-null   object \n",
      " 11  Churn            10000 non-null  int64  \n",
      "dtypes: float64(2), int64(1), object(9)\n",
      "memory usage: 937.6+ KB\n"
     ]
    }
   ],
   "execution_count": 249
  },
  {
   "cell_type": "code",
   "metadata": {
    "ExecuteTime": {
     "end_time": "2025-02-16T15:36:14.811981Z",
     "start_time": "2025-02-16T15:36:14.797521Z"
    }
   },
   "source": [
    "df.isnull().sum()"
   ],
   "outputs": [
    {
     "data": {
      "text/plain": [
       "customerID            0\n",
       "gender             1000\n",
       "SeniorCitizen      1000\n",
       "Partner            1000\n",
       "Dependents         1000\n",
       "tenure             1000\n",
       "PhoneService       1000\n",
       "MultipleLines      1000\n",
       "InternetService    1000\n",
       "OnlineSecurity     1000\n",
       "OnlineBackup       1000\n",
       "Churn                 0\n",
       "dtype: int64"
      ]
     },
     "execution_count": 250,
     "metadata": {},
     "output_type": "execute_result"
    }
   ],
   "execution_count": 250
  },
  {
   "cell_type": "markdown",
   "metadata": {},
   "source": [
    "Possible visualizations that can be done:\n",
    "1. Total data churn\n",
    "2. By gender and then one by one"
   ]
  },
  {
   "cell_type": "code",
   "metadata": {
    "ExecuteTime": {
     "end_time": "2025-02-16T15:36:15.078093Z",
     "start_time": "2025-02-16T15:36:15.071003Z"
    }
   },
   "source": [
    "churned_out_color = '#B71C1C'\n",
    "active_customers_color = '#00BFA5'"
   ],
   "outputs": [],
   "execution_count": 251
  },
  {
   "cell_type": "code",
   "metadata": {
    "ExecuteTime": {
     "end_time": "2025-02-16T15:36:15.242913Z",
     "start_time": "2025-02-16T15:36:15.140324Z"
    }
   },
   "source": [
    "# Prepare the data\n",
    "labels = ['Churned Out', 'Active Customers']\n",
    "sizes = [df.Churn[df['Churn'] == 1].count(), df.Churn[df['Churn'] == 0].count()]\n",
    "print(sizes)\n",
    "\n",
    "# Create the pie chart\n",
    "fig = px.pie(\n",
    "    names=labels,\n",
    "    values=sizes,\n",
    "    title=\"Proportion of Customers Churned out and Active Customers\",\n",
    "    hole=0.0,  # For a standard pie chart; set hole=0.5 for a donut chart\n",
    ")\n",
    "\n",
    "# Optional: Tuning visual appearance\n",
    "fig.update_traces(\n",
    "    pull=[0, 0.05],  # Pulls the 'Retained' slice out slightly, similar to \"explode\"\n",
    "    textinfo='percent+label',  # Show percentage and label together\n",
    "    hoverinfo='label+percent+value',  # Hover information\n",
    "    marker=dict(line=dict(color='black', width=0.5),colors=[churned_out_color, active_customers_color]),  # Customize marker line\n",
    ")\n",
    "\n",
    "# Adjust the layout to set the width and height\n",
    "fig.update_layout(\n",
    "    width=800,  # Set desired width (e.g., 600 pixels)\n",
    "    height=500  # Set desired height (e.g., 400 pixels)\n",
    ")\n",
    "\n",
    "\n",
    "# Show the chart\n",
    "fig.show(renderer='iframe')\n"
   ],
   "outputs": [
    {
     "name": "stdout",
     "output_type": "stream",
     "text": [
      "[5020, 4980]\n"
     ]
    },
    {
     "data": {
      "text/html": [
       "<iframe\n",
       "    scrolling=\"no\"\n",
       "    width=\"820px\"\n",
       "    height=\"520\"\n",
       "    src=\"iframe_figures/figure_252.html\"\n",
       "    frameborder=\"0\"\n",
       "    allowfullscreen\n",
       "></iframe>\n"
      ]
     },
     "metadata": {},
     "output_type": "display_data"
    }
   ],
   "execution_count": 252
  },
  {
   "cell_type": "code",
   "metadata": {
    "ExecuteTime": {
     "end_time": "2025-02-16T15:36:15.303015Z",
     "start_time": "2025-02-16T15:36:15.278701Z"
    }
   },
   "source": [
    "# Create a copy of the original DataFrame\n",
    "df_copy = df.copy()\n",
    "\n",
    "# Drop the customerID column\n",
    "if 'customerID' in df.columns:\n",
    "    df = df.drop(columns=['customerID'])\n",
    "\n",
    "# Drop the customerID column\n",
    "if 'customerID' in df_copy.columns:\n",
    "    df_copy = df_copy.drop(columns=['customerID'])\n",
    "\n",
    "# Map the Churn column to the desired labels in the copy\n",
    "df_copy['Churn'] = df_copy['Churn'].map({0: 'Active Customers', 1: 'Churned Out'})\n",
    "df_copy['SeniorCitizen'] = df_copy['SeniorCitizen'].map({0: 'Non-Senior Citizen', 1: 'Senior Citizen'})"
   ],
   "outputs": [],
   "execution_count": 253
  },
  {
   "cell_type": "code",
   "metadata": {
    "ExecuteTime": {
     "end_time": "2025-02-16T15:36:15.781456Z",
     "start_time": "2025-02-16T15:36:15.592397Z"
    }
   },
   "source": [
    "#Gender\n",
    "fig = px.histogram(df_copy,\n",
    "                   x='gender',\n",
    "                   color='Churn',\n",
    "                   title='Churn Rate by Gender',\n",
    "                   barmode='group',\n",
    "                   color_discrete_sequence=[churned_out_color,active_customers_color],)\n",
    "\n",
    "fig.update_layout(xaxis_title='Active Customers vs Churned out', yaxis_title='Count', width=800, height=400)\n",
    "fig.show(renderer='iframe')"
   ],
   "outputs": [
    {
     "data": {
      "text/html": [
       "<iframe\n",
       "    scrolling=\"no\"\n",
       "    width=\"820px\"\n",
       "    height=\"420\"\n",
       "    src=\"iframe_figures/figure_254.html\"\n",
       "    frameborder=\"0\"\n",
       "    allowfullscreen\n",
       "></iframe>\n"
      ]
     },
     "metadata": {},
     "output_type": "display_data"
    }
   ],
   "execution_count": 254
  },
  {
   "cell_type": "code",
   "metadata": {
    "ExecuteTime": {
     "end_time": "2025-02-16T15:36:16.194684Z",
     "start_time": "2025-02-16T15:36:16.052156Z"
    }
   },
   "source": [
    "#SeniorCitizen\n",
    "fig = px.histogram(df_copy,\n",
    "                   x='SeniorCitizen',\n",
    "                   color='Churn',\n",
    "                   title='Churn Rate by Senior Citizen',\n",
    "                   barmode='group',\n",
    "                   color_discrete_sequence=[churned_out_color,active_customers_color],)\n",
    "\n",
    "fig.update_layout(xaxis_title='Active Customers vs Churned out', yaxis_title='Count', width=800, height=400)\n",
    "fig.show(renderer='iframe')\n",
    "\n"
   ],
   "outputs": [
    {
     "data": {
      "text/html": [
       "<iframe\n",
       "    scrolling=\"no\"\n",
       "    width=\"820px\"\n",
       "    height=\"420\"\n",
       "    src=\"iframe_figures/figure_255.html\"\n",
       "    frameborder=\"0\"\n",
       "    allowfullscreen\n",
       "></iframe>\n"
      ]
     },
     "metadata": {},
     "output_type": "display_data"
    }
   ],
   "execution_count": 255
  },
  {
   "cell_type": "code",
   "metadata": {
    "ExecuteTime": {
     "end_time": "2025-02-16T15:36:16.589176Z",
     "start_time": "2025-02-16T15:36:16.452560Z"
    }
   },
   "source": [
    "#Partner\n",
    "fig = px.histogram(df_copy,\n",
    "                   x='Partner',\n",
    "                   color='Churn',\n",
    "                   title='Churn Rate by Partner',\n",
    "                   barmode='group',\n",
    "                   color_discrete_sequence=[churned_out_color,active_customers_color],)\n",
    "\n",
    "fig.update_layout(xaxis_title='Active Customers vs Churned out', yaxis_title='Count', width=800, height=400)\n",
    "fig.show(renderer='iframe')"
   ],
   "outputs": [
    {
     "data": {
      "text/html": [
       "<iframe\n",
       "    scrolling=\"no\"\n",
       "    width=\"820px\"\n",
       "    height=\"420\"\n",
       "    src=\"iframe_figures/figure_256.html\"\n",
       "    frameborder=\"0\"\n",
       "    allowfullscreen\n",
       "></iframe>\n"
      ]
     },
     "metadata": {},
     "output_type": "display_data"
    }
   ],
   "execution_count": 256
  },
  {
   "cell_type": "code",
   "metadata": {
    "ExecuteTime": {
     "end_time": "2025-02-16T15:36:16.973141Z",
     "start_time": "2025-02-16T15:36:16.800072Z"
    }
   },
   "source": [
    "#Dependents\n",
    "fig = px.histogram(df_copy,\n",
    "                   x='Dependents',\n",
    "                   color='Churn',\n",
    "                   title='Churn Rate by Dependents',\n",
    "                   barmode='group',\n",
    "                   color_discrete_sequence=[churned_out_color,active_customers_color],)\n",
    "\n",
    "fig.update_layout(xaxis_title='Active Customers vs Churned out', yaxis_title='Count', width=800, height=400)\n",
    "fig.show(renderer='iframe')"
   ],
   "outputs": [
    {
     "data": {
      "text/html": [
       "<iframe\n",
       "    scrolling=\"no\"\n",
       "    width=\"820px\"\n",
       "    height=\"420\"\n",
       "    src=\"iframe_figures/figure_257.html\"\n",
       "    frameborder=\"0\"\n",
       "    allowfullscreen\n",
       "></iframe>\n"
      ]
     },
     "metadata": {},
     "output_type": "display_data"
    }
   ],
   "execution_count": 257
  },
  {
   "cell_type": "code",
   "metadata": {
    "ExecuteTime": {
     "end_time": "2025-02-16T15:36:17.285526Z",
     "start_time": "2025-02-16T15:36:17.133124Z"
    }
   },
   "source": [
    "#PhoneService\n",
    "fig = px.histogram(df_copy,\n",
    "                   x='PhoneService',\n",
    "                   color='Churn',\n",
    "                   title='Churn Rate by PhoneService',\n",
    "                   barmode='group',\n",
    "                   color_discrete_sequence=[churned_out_color,active_customers_color],)\n",
    "\n",
    "fig.update_layout(xaxis_title='Active Customers vs Churned out', yaxis_title='Count', width=800, height=400)\n",
    "fig.show(renderer='iframe')"
   ],
   "outputs": [
    {
     "data": {
      "text/html": [
       "<iframe\n",
       "    scrolling=\"no\"\n",
       "    width=\"820px\"\n",
       "    height=\"420\"\n",
       "    src=\"iframe_figures/figure_258.html\"\n",
       "    frameborder=\"0\"\n",
       "    allowfullscreen\n",
       "></iframe>\n"
      ]
     },
     "metadata": {},
     "output_type": "display_data"
    }
   ],
   "execution_count": 258
  },
  {
   "cell_type": "code",
   "metadata": {
    "ExecuteTime": {
     "end_time": "2025-02-16T15:36:17.604342Z",
     "start_time": "2025-02-16T15:36:17.454817Z"
    }
   },
   "source": [
    "#MultipleLines\n",
    "fig = px.histogram(df_copy,\n",
    "                   x='MultipleLines',\n",
    "                   color='Churn',\n",
    "                   title='Churn Rate by MultipleLines',\n",
    "                   barmode='group',\n",
    "                   color_discrete_sequence=[churned_out_color,active_customers_color],)\n",
    "\n",
    "fig.update_layout(xaxis_title='Active Customers vs Churned out', yaxis_title='Count', width=800, height=400)\n",
    "fig.show(renderer='iframe')"
   ],
   "outputs": [
    {
     "data": {
      "text/html": [
       "<iframe\n",
       "    scrolling=\"no\"\n",
       "    width=\"820px\"\n",
       "    height=\"420\"\n",
       "    src=\"iframe_figures/figure_259.html\"\n",
       "    frameborder=\"0\"\n",
       "    allowfullscreen\n",
       "></iframe>\n"
      ]
     },
     "metadata": {},
     "output_type": "display_data"
    }
   ],
   "execution_count": 259
  },
  {
   "cell_type": "code",
   "metadata": {
    "ExecuteTime": {
     "end_time": "2025-02-16T15:36:18.007165Z",
     "start_time": "2025-02-16T15:36:17.875772Z"
    }
   },
   "source": [
    "#InternetService\n",
    "fig = px.histogram(df_copy,\n",
    "                   x='InternetService',\n",
    "                   color='Churn',\n",
    "                   title='Churn Rate by InternetService',\n",
    "                   barmode='group',\n",
    "                   color_discrete_sequence=[churned_out_color,active_customers_color],)\n",
    "\n",
    "fig.update_layout(xaxis_title='Active Customers vs Churned out', yaxis_title='Count', width=800, height=400)\n",
    "fig.show(renderer='iframe')"
   ],
   "outputs": [
    {
     "data": {
      "text/html": [
       "<iframe\n",
       "    scrolling=\"no\"\n",
       "    width=\"820px\"\n",
       "    height=\"420\"\n",
       "    src=\"iframe_figures/figure_260.html\"\n",
       "    frameborder=\"0\"\n",
       "    allowfullscreen\n",
       "></iframe>\n"
      ]
     },
     "metadata": {},
     "output_type": "display_data"
    }
   ],
   "execution_count": 260
  },
  {
   "cell_type": "code",
   "metadata": {
    "ExecuteTime": {
     "end_time": "2025-02-16T15:36:18.327851Z",
     "start_time": "2025-02-16T15:36:18.200845Z"
    }
   },
   "source": [
    "#OnlineSecurity\n",
    "fig = px.histogram(df_copy,\n",
    "                   x='OnlineSecurity',\n",
    "                   color='Churn',\n",
    "                   title='Churn Rate by OnlineSecurity',\n",
    "                   barmode='group',\n",
    "                   color_discrete_sequence=[churned_out_color,active_customers_color],)\n",
    "\n",
    "fig.update_layout(xaxis_title='Active Customers vs Churned out', yaxis_title='Count', width=800, height=400)\n",
    "fig.show(renderer='iframe')"
   ],
   "outputs": [
    {
     "data": {
      "text/html": [
       "<iframe\n",
       "    scrolling=\"no\"\n",
       "    width=\"820px\"\n",
       "    height=\"420\"\n",
       "    src=\"iframe_figures/figure_261.html\"\n",
       "    frameborder=\"0\"\n",
       "    allowfullscreen\n",
       "></iframe>\n"
      ]
     },
     "metadata": {},
     "output_type": "display_data"
    }
   ],
   "execution_count": 261
  },
  {
   "cell_type": "code",
   "metadata": {
    "ExecuteTime": {
     "end_time": "2025-02-16T15:36:18.660630Z",
     "start_time": "2025-02-16T15:36:18.516564Z"
    }
   },
   "source": [
    "#OnlineBackup\n",
    "fig = px.histogram(df_copy,\n",
    "                   x='OnlineBackup',\n",
    "                   color='Churn',\n",
    "                   title='Churn Rate by OnlineBackup',\n",
    "                   barmode='group',\n",
    "                   color_discrete_sequence=[churned_out_color,active_customers_color],)\n",
    "\n",
    "fig.update_layout(xaxis_title='Active Customers vs Churned out', yaxis_title='Count', width=800, height=400)\n",
    "fig.show(renderer='iframe')"
   ],
   "outputs": [
    {
     "data": {
      "text/html": [
       "<iframe\n",
       "    scrolling=\"no\"\n",
       "    width=\"820px\"\n",
       "    height=\"420\"\n",
       "    src=\"iframe_figures/figure_262.html\"\n",
       "    frameborder=\"0\"\n",
       "    allowfullscreen\n",
       "></iframe>\n"
      ]
     },
     "metadata": {},
     "output_type": "display_data"
    }
   ],
   "execution_count": 262
  },
  {
   "cell_type": "code",
   "metadata": {
    "ExecuteTime": {
     "end_time": "2025-02-16T15:36:19.216414Z",
     "start_time": "2025-02-16T15:36:18.987615Z"
    }
   },
   "source": [
    "#tenure\n",
    "# Group and aggregate data\n",
    "grouped_data = df_copy.groupby(['tenure', 'Churn']).size().reset_index(name='Customer Count')\n",
    "\n",
    "# Create the line chart\n",
    "fig = px.line(\n",
    "    grouped_data,\n",
    "    x='tenure',\n",
    "    y='Customer Count',\n",
    "    color='Churn',\n",
    "    title='Churn Rate by Tenure',\n",
    "    color_discrete_sequence=[active_customers_color,churned_out_color]\n",
    ")\n",
    "\n",
    "# Update layout for better labels\n",
    "fig.update_layout(\n",
    "    xaxis_title='Tenure',\n",
    "    yaxis_title='Customer Count',\n",
    "    legend_title='Churn Status',\n",
    "\n",
    ")\n",
    "\n",
    "# Show the figure\n",
    "fig.show(renderer='iframe')\n"
   ],
   "outputs": [
    {
     "data": {
      "text/html": [
       "<iframe\n",
       "    scrolling=\"no\"\n",
       "    width=\"100%\"\n",
       "    height=\"545px\"\n",
       "    src=\"iframe_figures/figure_263.html\"\n",
       "    frameborder=\"0\"\n",
       "    allowfullscreen\n",
       "></iframe>\n"
      ]
     },
     "metadata": {},
     "output_type": "display_data"
    }
   ],
   "execution_count": 263
  },
  {
   "cell_type": "code",
   "metadata": {
    "ExecuteTime": {
     "end_time": "2025-02-16T15:36:20.380954Z",
     "start_time": "2025-02-16T15:36:19.508185Z"
    }
   },
   "source": [
    "# Drop rows with missing values\n",
    "df_copy = df_copy.dropna()\n",
    "\n",
    "# Encode categorical variables\n",
    "label_encoders = {}\n",
    "for column in df_copy.select_dtypes(include=['object']).columns:\n",
    "    le = LabelEncoder()\n",
    "    df_copy[column] = le.fit_transform(df_copy[column])\n",
    "    label_encoders[column] = le\n",
    "\n",
    "# Compute the correlation matrix\n",
    "correlation_matrix = df_copy.corr()\n",
    "\n",
    "# Plot the heatmap\n",
    "plt.figure(figsize=(10, 5))\n",
    "sns.heatmap(correlation_matrix, annot=True, cmap='coolwarm', fmt='.2f')\n",
    "plt.title('Correlation Matrix')\n",
    "plt.show()\n",
    "\n"
   ],
   "outputs": [
    {
     "data": {
      "text/plain": [
       "<Figure size 1000x500 with 2 Axes>"
      ],
      "image/png": "[encoded data removed]"
     },
     "metadata": {},
     "output_type": "display_data"
    }
   ],
   "execution_count": 264
  },
  {
   "cell_type": "code",
   "metadata": {
    "ExecuteTime": {
     "end_time": "2025-02-16T15:36:21.339798Z",
     "start_time": "2025-02-16T15:36:20.670605Z"
    }
   },
   "source": [
    "\n",
    "# Preprocess the data\n",
    "df_copy = df_copy.dropna()  # Drop rows with missing values\n",
    "label_encoders = {}\n",
    "for column in df_copy.select_dtypes(include=['object']).columns:\n",
    "    le = LabelEncoder()\n",
    "    df_copy[column] = le.fit_transform(df_copy[column])\n",
    "    label_encoders[column] = le\n",
    "\n",
    "# Split the data into features and target\n",
    "X = df_copy.drop('Churn', axis=1)\n",
    "y = df_copy['Churn']\n",
    "\n",
    "# Split the data into training and testing sets\n",
    "X_train, X_test, y_train, y_test = train_test_split(X, y, test_size=0.2, random_state=42)\n",
    "\n",
    "# Train a random forest classifier\n",
    "clf = RandomForestClassifier(random_state=42)\n",
    "clf.fit(X_train, y_train)\n",
    "\n",
    "# Get feature importance\n",
    "feature_importance = pd.Series(clf.feature_importances_, index=X.columns).sort_values(ascending=False)\n",
    "\n",
    "# Print feature importance\n",
    "print(feature_importance)\n"
   ],
   "outputs": [
    {
     "name": "stdout",
     "output_type": "stream",
     "text": [
      "tenure             0.429750\n",
      "OnlineSecurity     0.092899\n",
      "OnlineBackup       0.086982\n",
      "MultipleLines      0.082934\n",
      "InternetService    0.081157\n",
      "Partner            0.052440\n",
      "gender             0.049084\n",
      "PhoneService       0.045417\n",
      "SeniorCitizen      0.044344\n",
      "Dependents         0.034993\n",
      "dtype: float64\n"
     ]
    }
   ],
   "execution_count": 265
  },
  {
   "cell_type": "code",
   "metadata": {
    "ExecuteTime": {
     "end_time": "2025-02-16T15:36:21.487434Z",
     "start_time": "2025-02-16T15:36:21.462415Z"
    }
   },
   "source": [
    "#Creating baseline models\n",
    "# Preprocess the data (assuming df_copy is already preprocessed and ready)\n",
    "# Split the data into features and target\n",
    "x = df_copy.drop('Churn', axis=1)\n",
    "y = df_copy['Churn']\n",
    "\n",
    "# Split the data into training and testing sets\n",
    "X_train, X_test, y_train, y_test = train_test_split(x, y, test_size=0.2, random_state=42)\n",
    "\n",
    "# Train a Decision Tree classifier\n",
    "dt_clf = DecisionTreeClassifier(random_state=42, criterion='entropy', max_depth=5, )\n",
    "dt_clf.fit(X_train, y_train)\n",
    "\n",
    "# Make predictions on the test set\n",
    "y_pred = dt_clf.predict(X_test)\n",
    "\n",
    "# Calculate the accuracy of the model\n",
    "accuracy = accuracy_score(y_test, y_pred)\n",
    "precision = precision_score(y_test, y_pred)\n",
    "recall = recall_score(y_test, y_pred)\n",
    "f1_score_baseline_dt = f1_score(y_test, y_pred)\n",
    "print(f'Accuracy of the DecisionTreeClassifier model: {accuracy:.3f}')\n",
    "print(f'Precision of the DecisionTreeClassifier model: {precision:.3f}')\n",
    "print(f'Recall of the DecisionTreeClassifier model: {recall:.3f}')\n",
    "print(f'F1 Score of the DecisionTreeClassifier model: {f1_score_baseline_dt:.3f}')\n",
    "\n",
    "\n",
    "\n"
   ],
   "outputs": [
    {
     "name": "stdout",
     "output_type": "stream",
     "text": [
      "Accuracy of the DecisionTreeClassifier model: 0.514\n",
      "Precision of the DecisionTreeClassifier model: 0.488\n",
      "Recall of the DecisionTreeClassifier model: 0.413\n",
      "F1 Score of the DecisionTreeClassifier model: 0.447\n"
     ]
    }
   ],
   "execution_count": 266
  },
  {
   "cell_type": "code",
   "metadata": {
    "ExecuteTime": {
     "end_time": "2025-02-16T15:36:21.652124Z",
     "start_time": "2025-02-16T15:36:21.607579Z"
    }
   },
   "source": [
    "#Creating baseline models\n",
    "\n",
    "from sklearn.linear_model import LogisticRegression\n",
    "from sklearn.metrics import accuracy_score, precision_score, recall_score, f1_score\n",
    "\n",
    "# Preprocess the data (assuming df_copy is already preprocessed and ready)\n",
    "# Split the data into features and target\n",
    "x = df_copy.drop('Churn', axis=1)\n",
    "y = df_copy['Churn']\n",
    "\n",
    "# Split the data into training and testing sets\n",
    "X_train, X_test, y_train, y_test = train_test_split(x, y, test_size=0.2, random_state=42)\n",
    "\n",
    "# Train a Logistic Regression classifier\n",
    "lr_clf = LogisticRegression(random_state=42, max_iter=500)\n",
    "lr_clf.fit(X_train, y_train)\n",
    "\n",
    "# Make predictions on the test set\n",
    "y_pred = lr_clf.predict(X_test)\n",
    "\n",
    "# Calculate the accuracy of the model\n",
    "accuracy = accuracy_score(y_test, y_pred)\n",
    "precision = precision_score(y_test, y_pred)\n",
    "recall = recall_score(y_test, y_pred)\n",
    "f1_score_baseline_lr = f1_score(y_test, y_pred)\n",
    "print(f'Accuracy of the Logistic Regression model: {accuracy:.3f}')\n",
    "print(f'Precision of the Logistic Regression model: {precision:.3f}')\n",
    "print(f'Recall of the Logistic Regression model: {recall:.3f}')\n",
    "print(f'F1 Score of the Logistic Regression model: {f1_score_baseline_lr:.3f}')\n"
   ],
   "outputs": [
    {
     "name": "stdout",
     "output_type": "stream",
     "text": [
      "Accuracy of the Logistic Regression model: 0.559\n",
      "Precision of the Logistic Regression model: 0.543\n",
      "Recall of the Logistic Regression model: 0.461\n",
      "F1 Score of the Logistic Regression model: 0.498\n"
     ]
    }
   ],
   "execution_count": 267
  },
  {
   "cell_type": "code",
   "metadata": {
    "ExecuteTime": {
     "end_time": "2025-02-16T15:36:22.109601Z",
     "start_time": "2025-02-16T15:36:21.801163Z"
    }
   },
   "source": [
    "#Filling up the missing values\n",
    "\n",
    "#Gender\n",
    "# Check percentage of missing values in 'gender' column\n",
    "missing_gender_percent = df['gender'].isnull().sum() / len(df) * 100\n",
    "print(f\"Missing Gender Values: {missing_gender_percent:.2f}%\")\n",
    "# Add a placeholder \"Unknown\" for missing genders\n",
    "df['gender'].fillna(\"Unknown\", inplace=True)\n",
    "\n",
    "\n",
    "#Senior Citizen\n",
    "#Check for missing values with mode too\n",
    "missing_senior_citizen_percent = df['SeniorCitizen'].isnull().sum() / len(df) * 100\n",
    "print(f\"Missing SeniorCitizen Values: {missing_senior_citizen_percent:.2f}%\")\n",
    "# Calculate the proportions of the existing values (50% for each class)\n",
    "senior_dist = df['SeniorCitizen'].value_counts(normalize=True)\n",
    "# Fill missing values probabilistically based on the existing distribution\n",
    "df['SeniorCitizen'] = df['SeniorCitizen'].apply(\n",
    "    lambda senior_lambda: np.random.choice([0.0, 1.0], p=senior_dist.values) if pd.isnull(senior_lambda) else senior_lambda\n",
    ")\n",
    "\n",
    "\n",
    "#Partner\n",
    "missing_partner = df['Partner'].isnull().sum() / len(df) * 100\n",
    "print(f\"Missing Partner Values: {missing_partner:.2f}%\")\n",
    "partner_dist = df['Partner'].value_counts(normalize=True)\n",
    "df['Partner'] = df['Partner'].apply(lambda partner: np.random.choice(['Yes', 'No'], p=partner_dist.values) if pd.isnull(partner) else partner)\n",
    "\n",
    "# Dependents\n",
    "missing_dependents = df['Dependents'].isnull().sum() / len(df) * 100\n",
    "print(f\"Missing Dependents Values: {missing_dependents:.2f}%\")\n",
    "dependent_dist = df['Dependents'].value_counts(normalize=True)\n",
    "df['Dependents'] = df['Dependents'].apply(lambda dependent: np.random.choice(['Yes', 'No'], p=dependent_dist.values) if pd.isnull(dependent) else dependent)\n",
    "\n",
    "\n",
    "#Tenure\n",
    "missing_dependents = df['tenure'].isnull().sum() / len(df) * 100\n",
    "print(f\"Missing tenure Values: {missing_dependents:.2f}%\")\n",
    "df['tenure'].fillna(df['tenure'].median(), inplace=True)  # Fill with median\n",
    "\n",
    "# PhoneService\n",
    "missing_phone_service = df['PhoneService'].isnull().sum() / len(df) * 100\n",
    "print(f\"Missing PhoneService Values: {missing_phone_service:.2f}%\")\n",
    "phoneServicer_dist = df['PhoneService'].value_counts(normalize=True)\n",
    "df['PhoneService'] = df['PhoneService'].apply(lambda phone_servicer: np.random.choice(['Yes', 'No'], p=phoneServicer_dist.values) if pd.isnull(phone_servicer) else phone_servicer)\n",
    "\n",
    "#MultipleLines\n",
    "# Calculate the percentage of missing values in the 'MultipleLines' column\n",
    "missing_multipleLines = df['MultipleLines'].isnull().sum() / len(df) * 100\n",
    "print(f\"Missing MultipleLines Values: {missing_multipleLines:.2f}%\")\n",
    "# Get the distribution of the existing values in the 'MultipleLines' column\n",
    "multipleLines_dist = df['MultipleLines'].value_counts(normalize=True)\n",
    "\n",
    "# Fill missing values probabilistically based on the existing distribution\n",
    "df['MultipleLines'] = df['MultipleLines'].apply(\n",
    "    lambda x: np.random.choice(multipleLines_dist.index, p=multipleLines_dist.values) if pd.isnull(x) else x\n",
    ")\n",
    "\n",
    "\n",
    "# InternetService\n",
    "missing_internet_service = df['InternetService'].isnull().sum() / len(df) * 100\n",
    "print(f\"Missing InternetService Values: {missing_internet_service:.2f}%\")\n",
    "internet_service_dist = df['InternetService'].value_counts(normalize=True)\n",
    "df['InternetService'] = df['InternetService'].apply(\n",
    "    lambda x: np.random.choice(internet_service_dist.index, p=internet_service_dist.values) if pd.isnull(x) else x\n",
    ")\n",
    "\n",
    "# OnlineSecurity\n",
    "missing_online_security = df['OnlineSecurity'].isnull().sum() / len(df) * 100\n",
    "print(f\"Missing OnlineSecurity Values: {missing_online_security:.2f}%\")\n",
    "online_security_dist = df['OnlineSecurity'].value_counts(normalize=True)\n",
    "df['OnlineSecurity'] = df['OnlineSecurity'].apply(\n",
    "    lambda x: np.random.choice(online_security_dist.index, p=online_security_dist.values) if pd.isnull(x) else x\n",
    ")\n",
    "\n",
    "# OnlineBackup\n",
    "missing_online_backup = df['OnlineBackup'].isnull().sum() / len(df) * 100\n",
    "print(f\"Missing OnlineBackup Values: {missing_online_backup:.2f}%\")\n",
    "online_backup_dist = df['OnlineBackup'].value_counts(normalize=True)\n",
    "df['OnlineBackup'] = df['OnlineBackup'].apply(\n",
    "    lambda x: np.random.choice(online_backup_dist.index, p=online_backup_dist.values) if pd.isnull(x) else x\n",
    ")\n"
   ],
   "outputs": [
    {
     "name": "stdout",
     "output_type": "stream",
     "text": [
      "Missing Gender Values: 10.00%\n",
      "Missing SeniorCitizen Values: 10.00%\n",
      "Missing Partner Values: 10.00%\n",
      "Missing Dependents Values: 10.00%\n",
      "Missing tenure Values: 10.00%\n",
      "Missing PhoneService Values: 10.00%\n",
      "Missing MultipleLines Values: 10.00%\n",
      "Missing InternetService Values: 10.00%\n",
      "Missing OnlineSecurity Values: 10.00%\n",
      "Missing OnlineBackup Values: 10.00%\n"
     ]
    }
   ],
   "execution_count": 268
  },
  {
   "cell_type": "code",
   "metadata": {
    "ExecuteTime": {
     "end_time": "2025-02-16T15:36:22.242029Z",
     "start_time": "2025-02-16T15:36:22.229377Z"
    }
   },
   "source": [
    "df.isnull().sum()\n"
   ],
   "outputs": [
    {
     "data": {
      "text/plain": [
       "gender             0\n",
       "SeniorCitizen      0\n",
       "Partner            0\n",
       "Dependents         0\n",
       "tenure             0\n",
       "PhoneService       0\n",
       "MultipleLines      0\n",
       "InternetService    0\n",
       "OnlineSecurity     0\n",
       "OnlineBackup       0\n",
       "Churn              0\n",
       "dtype: int64"
      ]
     },
     "execution_count": 269,
     "metadata": {},
     "output_type": "execute_result"
    }
   ],
   "execution_count": 269
  },
  {
   "cell_type": "code",
   "metadata": {
    "ExecuteTime": {
     "end_time": "2025-02-16T15:36:22.421808Z",
     "start_time": "2025-02-16T15:36:22.408723Z"
    }
   },
   "source": [
    "df.info()"
   ],
   "outputs": [
    {
     "name": "stdout",
     "output_type": "stream",
     "text": [
      "<class 'pandas.core.frame.DataFrame'>\n",
      "RangeIndex: 10000 entries, 0 to 9999\n",
      "Data columns (total 11 columns):\n",
      " #   Column           Non-Null Count  Dtype  \n",
      "---  ------           --------------  -----  \n",
      " 0   gender           10000 non-null  object \n",
      " 1   SeniorCitizen    10000 non-null  float64\n",
      " 2   Partner          10000 non-null  object \n",
      " 3   Dependents       10000 non-null  object \n",
      " 4   tenure           10000 non-null  float64\n",
      " 5   PhoneService     10000 non-null  object \n",
      " 6   MultipleLines    10000 non-null  object \n",
      " 7   InternetService  10000 non-null  object \n",
      " 8   OnlineSecurity   10000 non-null  object \n",
      " 9   OnlineBackup     10000 non-null  object \n",
      " 10  Churn            10000 non-null  int64  \n",
      "dtypes: float64(2), int64(1), object(8)\n",
      "memory usage: 859.5+ KB\n"
     ]
    }
   ],
   "execution_count": 270
  },
  {
   "cell_type": "code",
   "metadata": {
    "ExecuteTime": {
     "end_time": "2025-02-16T15:36:22.522182Z",
     "start_time": "2025-02-16T15:36:22.497580Z"
    }
   },
   "source": [
    "##Encoding the data\n",
    "\n",
    "# Create a LabelEncoder object for binary features\n",
    "df.head()\n",
    "# List of binary columns (for Label Encoding)\n",
    "binary_cols = ['SeniorCitizen', 'Partner', 'Dependents', 'PhoneService']\n",
    "\n",
    "# Apply Label Encoding to binary features\n",
    "le = LabelEncoder()\n",
    "for col in binary_cols:\n",
    "    df[col] = le.fit_transform(df[col])\n",
    "\n",
    "# List of categorical columns (for One-Hot Encoding)\n",
    "categorical_cols = ['gender', 'MultipleLines', 'InternetService', 'OnlineSecurity', 'OnlineBackup']\n",
    "\n",
    "# Apply One-Hot Encoding\n",
    "df_preprocessed = pd.get_dummies(df, columns=categorical_cols, drop_first=False, dtype='int')"
   ],
   "outputs": [],
   "execution_count": 271
  },
  {
   "cell_type": "code",
   "metadata": {
    "ExecuteTime": {
     "end_time": "2025-02-16T15:36:22.693189Z",
     "start_time": "2025-02-16T15:36:22.682653Z"
    }
   },
   "source": [
    "# Initialize MinMaxScaler\n",
    "scaler = MinMaxScaler()\n",
    "\n",
    "# Apply MinMaxScaler to the 'tenure' field and create a new column 'scaled_tenure'\n",
    "df_preprocessed['scaled_tenure'] = scaler.fit_transform(df[['tenure']])\n"
   ],
   "outputs": [],
   "execution_count": 272
  },
  {
   "cell_type": "code",
   "metadata": {
    "ExecuteTime": {
     "end_time": "2025-02-16T15:36:22.727962Z",
     "start_time": "2025-02-16T15:36:22.710782Z"
    }
   },
   "source": [
    "# Print confirmation\n",
    "print(\"DataFrame `df_preprocessed` is ready for model training!\")\n",
    "df_preprocessed.head()"
   ],
   "outputs": [
    {
     "name": "stdout",
     "output_type": "stream",
     "text": [
      "DataFrame `df_preprocessed` is ready for model training!\n"
     ]
    },
    {
     "data": {
      "text/plain": [
       "   SeniorCitizen  Partner  Dependents  tenure  PhoneService  Churn  \\\n",
       "0              0        1           0     2.0             1      1   \n",
       "1              1        0           0    37.0             1      0   \n",
       "2              0        0           1    37.0             1      0   \n",
       "3              1        0           0    13.0             1      0   \n",
       "4              1        1           1    55.0             0      1   \n",
       "\n",
       "   gender_Female  gender_Male  gender_Unknown  MultipleLines_No  ...  \\\n",
       "0              0            1               0                 1  ...   \n",
       "1              1            0               0                 1  ...   \n",
       "2              0            1               0                 0  ...   \n",
       "3              0            1               0                 0  ...   \n",
       "4              0            0               1                 1  ...   \n",
       "\n",
       "   InternetService_DSL  InternetService_Fiber optic  InternetService_No  \\\n",
       "0                    0                            0                   1   \n",
       "1                    0                            1                   0   \n",
       "2                    0                            1                   0   \n",
       "3                    1                            0                   0   \n",
       "4                    0                            0                   1   \n",
       "\n",
       "   OnlineSecurity_No  OnlineSecurity_No internet service  OnlineSecurity_Yes  \\\n",
       "0                  1                                   0                   0   \n",
       "1                  0                                   0                   1   \n",
       "2                  1                                   0                   0   \n",
       "3                  1                                   0                   0   \n",
       "4                  0                                   0                   1   \n",
       "\n",
       "   OnlineBackup_No  OnlineBackup_No internet service  OnlineBackup_Yes  \\\n",
       "0                0                                 1                 0   \n",
       "1                0                                 0                 1   \n",
       "2                0                                 1                 0   \n",
       "3                0                                 0                 1   \n",
       "4                0                                 0                 1   \n",
       "\n",
       "   scaled_tenure  \n",
       "0       0.014085  \n",
       "1       0.507042  \n",
       "2       0.507042  \n",
       "3       0.169014  \n",
       "4       0.760563  \n",
       "\n",
       "[5 rows x 22 columns]"
      ],
      "text/html": [
       "<div>\n",
       "<style scoped>\n",
       "    .dataframe tbody tr th:only-of-type {\n",
       "        vertical-align: middle;\n",
       "    }\n",
       "\n",
       "    .dataframe tbody tr th {\n",
       "        vertical-align: top;\n",
       "    }\n",
       "\n",
       "    .dataframe thead th {\n",
       "        text-align: right;\n",
       "    }\n",
       "</style>\n",
       "<table border=\"1\" class=\"dataframe\">\n",
       "  <thead>\n",
       "    <tr style=\"text-align: right;\">\n",
       "      <th></th>\n",
       "      <th>SeniorCitizen</th>\n",
       "      <th>Partner</th>\n",
       "      <th>Dependents</th>\n",
       "      <th>tenure</th>\n",
       "      <th>PhoneService</th>\n",
       "      <th>Churn</th>\n",
       "      <th>gender_Female</th>\n",
       "      <th>gender_Male</th>\n",
       "      <th>gender_Unknown</th>\n",
       "      <th>MultipleLines_No</th>\n",
       "      <th>...</th>\n",
       "      <th>InternetService_DSL</th>\n",
       "      <th>InternetService_Fiber optic</th>\n",
       "      <th>InternetService_No</th>\n",
       "      <th>OnlineSecurity_No</th>\n",
       "      <th>OnlineSecurity_No internet service</th>\n",
       "      <th>OnlineSecurity_Yes</th>\n",
       "      <th>OnlineBackup_No</th>\n",
       "      <th>OnlineBackup_No internet service</th>\n",
       "      <th>OnlineBackup_Yes</th>\n",
       "      <th>scaled_tenure</th>\n",
       "    </tr>\n",
       "  </thead>\n",
       "  <tbody>\n",
       "    <tr>\n",
       "      <th>0</th>\n",
       "      <td>0</td>\n",
       "      <td>1</td>\n",
       "      <td>0</td>\n",
       "      <td>2.0</td>\n",
       "      <td>1</td>\n",
       "      <td>1</td>\n",
       "      <td>0</td>\n",
       "      <td>1</td>\n",
       "      <td>0</td>\n",
       "      <td>1</td>\n",
       "      <td>...</td>\n",
       "      <td>0</td>\n",
       "      <td>0</td>\n",
       "      <td>1</td>\n",
       "      <td>1</td>\n",
       "      <td>0</td>\n",
       "      <td>0</td>\n",
       "      <td>0</td>\n",
       "      <td>1</td>\n",
       "      <td>0</td>\n",
       "      <td>0.014085</td>\n",
       "    </tr>\n",
       "    <tr>\n",
       "      <th>1</th>\n",
       "      <td>1</td>\n",
       "      <td>0</td>\n",
       "      <td>0</td>\n",
       "      <td>37.0</td>\n",
       "      <td>1</td>\n",
       "      <td>0</td>\n",
       "      <td>1</td>\n",
       "      <td>0</td>\n",
       "      <td>0</td>\n",
       "      <td>1</td>\n",
       "      <td>...</td>\n",
       "      <td>0</td>\n",
       "      <td>1</td>\n",
       "      <td>0</td>\n",
       "      <td>0</td>\n",
       "      <td>0</td>\n",
       "      <td>1</td>\n",
       "      <td>0</td>\n",
       "      <td>0</td>\n",
       "      <td>1</td>\n",
       "      <td>0.507042</td>\n",
       "    </tr>\n",
       "    <tr>\n",
       "      <th>2</th>\n",
       "      <td>0</td>\n",
       "      <td>0</td>\n",
       "      <td>1</td>\n",
       "      <td>37.0</td>\n",
       "      <td>1</td>\n",
       "      <td>0</td>\n",
       "      <td>0</td>\n",
       "      <td>1</td>\n",
       "      <td>0</td>\n",
       "      <td>0</td>\n",
       "      <td>...</td>\n",
       "      <td>0</td>\n",
       "      <td>1</td>\n",
       "      <td>0</td>\n",
       "      <td>1</td>\n",
       "      <td>0</td>\n",
       "      <td>0</td>\n",
       "      <td>0</td>\n",
       "      <td>1</td>\n",
       "      <td>0</td>\n",
       "      <td>0.507042</td>\n",
       "    </tr>\n",
       "    <tr>\n",
       "      <th>3</th>\n",
       "      <td>1</td>\n",
       "      <td>0</td>\n",
       "      <td>0</td>\n",
       "      <td>13.0</td>\n",
       "      <td>1</td>\n",
       "      <td>0</td>\n",
       "      <td>0</td>\n",
       "      <td>1</td>\n",
       "      <td>0</td>\n",
       "      <td>0</td>\n",
       "      <td>...</td>\n",
       "      <td>1</td>\n",
       "      <td>0</td>\n",
       "      <td>0</td>\n",
       "      <td>1</td>\n",
       "      <td>0</td>\n",
       "      <td>0</td>\n",
       "      <td>0</td>\n",
       "      <td>0</td>\n",
       "      <td>1</td>\n",
       "      <td>0.169014</td>\n",
       "    </tr>\n",
       "    <tr>\n",
       "      <th>4</th>\n",
       "      <td>1</td>\n",
       "      <td>1</td>\n",
       "      <td>1</td>\n",
       "      <td>55.0</td>\n",
       "      <td>0</td>\n",
       "      <td>1</td>\n",
       "      <td>0</td>\n",
       "      <td>0</td>\n",
       "      <td>1</td>\n",
       "      <td>1</td>\n",
       "      <td>...</td>\n",
       "      <td>0</td>\n",
       "      <td>0</td>\n",
       "      <td>1</td>\n",
       "      <td>0</td>\n",
       "      <td>0</td>\n",
       "      <td>1</td>\n",
       "      <td>0</td>\n",
       "      <td>0</td>\n",
       "      <td>1</td>\n",
       "      <td>0.760563</td>\n",
       "    </tr>\n",
       "  </tbody>\n",
       "</table>\n",
       "<p>5 rows × 22 columns</p>\n",
       "</div>"
      ]
     },
     "execution_count": 273,
     "metadata": {},
     "output_type": "execute_result"
    }
   ],
   "execution_count": 273
  },
  {
   "cell_type": "code",
   "metadata": {
    "ExecuteTime": {
     "end_time": "2025-02-16T15:36:22.974554Z",
     "start_time": "2025-02-16T15:36:22.916638Z"
    }
   },
   "source": [
    "df_preprocessed.describe()\n"
   ],
   "outputs": [
    {
     "data": {
      "text/plain": [
       "       SeniorCitizen       Partner    Dependents        tenure  PhoneService  \\\n",
       "count   10000.000000  10000.000000  10000.000000  10000.000000  10000.000000   \n",
       "mean        0.499400      0.500200      0.498500     36.513900      0.489800   \n",
       "std         0.500025      0.500025      0.500023     19.630256      0.499921   \n",
       "min         0.000000      0.000000      0.000000      1.000000      0.000000   \n",
       "25%         0.000000      0.000000      0.000000     21.000000      0.000000   \n",
       "50%         0.000000      1.000000      0.000000     37.000000      0.000000   \n",
       "75%         1.000000      1.000000      1.000000     52.000000      1.000000   \n",
       "max         1.000000      1.000000      1.000000     72.000000      1.000000   \n",
       "\n",
       "              Churn  gender_Female   gender_Male  gender_Unknown  \\\n",
       "count  10000.000000   10000.000000  10000.000000    10000.000000   \n",
       "mean       0.502000       0.449300      0.450700        0.100000   \n",
       "std        0.500021       0.497448      0.497588        0.300015   \n",
       "min        0.000000       0.000000      0.000000        0.000000   \n",
       "25%        0.000000       0.000000      0.000000        0.000000   \n",
       "50%        1.000000       0.000000      0.000000        0.000000   \n",
       "75%        1.000000       1.000000      1.000000        0.000000   \n",
       "max        1.000000       1.000000      1.000000        1.000000   \n",
       "\n",
       "       MultipleLines_No  ...  InternetService_DSL  \\\n",
       "count      10000.000000  ...         10000.000000   \n",
       "mean           0.336100  ...             0.335700   \n",
       "std            0.472397  ...             0.472258   \n",
       "min            0.000000  ...             0.000000   \n",
       "25%            0.000000  ...             0.000000   \n",
       "50%            0.000000  ...             0.000000   \n",
       "75%            1.000000  ...             1.000000   \n",
       "max            1.000000  ...             1.000000   \n",
       "\n",
       "       InternetService_Fiber optic  InternetService_No  OnlineSecurity_No  \\\n",
       "count                 10000.000000        10000.000000       10000.000000   \n",
       "mean                      0.336500            0.327800           0.331500   \n",
       "std                       0.472536            0.469435           0.470776   \n",
       "min                       0.000000            0.000000           0.000000   \n",
       "25%                       0.000000            0.000000           0.000000   \n",
       "50%                       0.000000            0.000000           0.000000   \n",
       "75%                       1.000000            1.000000           1.000000   \n",
       "max                       1.000000            1.000000           1.000000   \n",
       "\n",
       "       OnlineSecurity_No internet service  OnlineSecurity_Yes  \\\n",
       "count                        10000.000000         10000.00000   \n",
       "mean                             0.331900             0.33660   \n",
       "std                              0.470919             0.47257   \n",
       "min                              0.000000             0.00000   \n",
       "25%                              0.000000             0.00000   \n",
       "50%                              0.000000             0.00000   \n",
       "75%                              1.000000             1.00000   \n",
       "max                              1.000000             1.00000   \n",
       "\n",
       "       OnlineBackup_No  OnlineBackup_No internet service  OnlineBackup_Yes  \\\n",
       "count     10000.000000                      10000.000000      10000.000000   \n",
       "mean          0.337400                          0.330300          0.332300   \n",
       "std           0.472846                          0.470345          0.471061   \n",
       "min           0.000000                          0.000000          0.000000   \n",
       "25%           0.000000                          0.000000          0.000000   \n",
       "50%           0.000000                          0.000000          0.000000   \n",
       "75%           1.000000                          1.000000          1.000000   \n",
       "max           1.000000                          1.000000          1.000000   \n",
       "\n",
       "       scaled_tenure  \n",
       "count   10000.000000  \n",
       "mean        0.500196  \n",
       "std         0.276482  \n",
       "min         0.000000  \n",
       "25%         0.281690  \n",
       "50%         0.507042  \n",
       "75%         0.718310  \n",
       "max         1.000000  \n",
       "\n",
       "[8 rows x 22 columns]"
      ],
      "text/html": [
       "<div>\n",
       "<style scoped>\n",
       "    .dataframe tbody tr th:only-of-type {\n",
       "        vertical-align: middle;\n",
       "    }\n",
       "\n",
       "    .dataframe tbody tr th {\n",
       "        vertical-align: top;\n",
       "    }\n",
       "\n",
       "    .dataframe thead th {\n",
       "        text-align: right;\n",
       "    }\n",
       "</style>\n",
       "<table border=\"1\" class=\"dataframe\">\n",
       "  <thead>\n",
       "    <tr style=\"text-align: right;\">\n",
       "      <th></th>\n",
       "      <th>SeniorCitizen</th>\n",
       "      <th>Partner</th>\n",
       "      <th>Dependents</th>\n",
       "      <th>tenure</th>\n",
       "      <th>PhoneService</th>\n",
       "      <th>Churn</th>\n",
       "      <th>gender_Female</th>\n",
       "      <th>gender_Male</th>\n",
       "      <th>gender_Unknown</th>\n",
       "      <th>MultipleLines_No</th>\n",
       "      <th>...</th>\n",
       "      <th>InternetService_DSL</th>\n",
       "      <th>InternetService_Fiber optic</th>\n",
       "      <th>InternetService_No</th>\n",
       "      <th>OnlineSecurity_No</th>\n",
       "      <th>OnlineSecurity_No internet service</th>\n",
       "      <th>OnlineSecurity_Yes</th>\n",
       "      <th>OnlineBackup_No</th>\n",
       "      <th>OnlineBackup_No internet service</th>\n",
       "      <th>OnlineBackup_Yes</th>\n",
       "      <th>scaled_tenure</th>\n",
       "    </tr>\n",
       "  </thead>\n",
       "  <tbody>\n",
       "    <tr>\n",
       "      <th>count</th>\n",
       "      <td>10000.000000</td>\n",
       "      <td>10000.000000</td>\n",
       "      <td>10000.000000</td>\n",
       "      <td>10000.000000</td>\n",
       "      <td>10000.000000</td>\n",
       "      <td>10000.000000</td>\n",
       "      <td>10000.000000</td>\n",
       "      <td>10000.000000</td>\n",
       "      <td>10000.000000</td>\n",
       "      <td>10000.000000</td>\n",
       "      <td>...</td>\n",
       "      <td>10000.000000</td>\n",
       "      <td>10000.000000</td>\n",
       "      <td>10000.000000</td>\n",
       "      <td>10000.000000</td>\n",
       "      <td>10000.000000</td>\n",
       "      <td>10000.00000</td>\n",
       "      <td>10000.000000</td>\n",
       "      <td>10000.000000</td>\n",
       "      <td>10000.000000</td>\n",
       "      <td>10000.000000</td>\n",
       "    </tr>\n",
       "    <tr>\n",
       "      <th>mean</th>\n",
       "      <td>0.499400</td>\n",
       "      <td>0.500200</td>\n",
       "      <td>0.498500</td>\n",
       "      <td>36.513900</td>\n",
       "      <td>0.489800</td>\n",
       "      <td>0.502000</td>\n",
       "      <td>0.449300</td>\n",
       "      <td>0.450700</td>\n",
       "      <td>0.100000</td>\n",
       "      <td>0.336100</td>\n",
       "      <td>...</td>\n",
       "      <td>0.335700</td>\n",
       "      <td>0.336500</td>\n",
       "      <td>0.327800</td>\n",
       "      <td>0.331500</td>\n",
       "      <td>0.331900</td>\n",
       "      <td>0.33660</td>\n",
       "      <td>0.337400</td>\n",
       "      <td>0.330300</td>\n",
       "      <td>0.332300</td>\n",
       "      <td>0.500196</td>\n",
       "    </tr>\n",
       "    <tr>\n",
       "      <th>std</th>\n",
       "      <td>0.500025</td>\n",
       "      <td>0.500025</td>\n",
       "      <td>0.500023</td>\n",
       "      <td>19.630256</td>\n",
       "      <td>0.499921</td>\n",
       "      <td>0.500021</td>\n",
       "      <td>0.497448</td>\n",
       "      <td>0.497588</td>\n",
       "      <td>0.300015</td>\n",
       "      <td>0.472397</td>\n",
       "      <td>...</td>\n",
       "      <td>0.472258</td>\n",
       "      <td>0.472536</td>\n",
       "      <td>0.469435</td>\n",
       "      <td>0.470776</td>\n",
       "      <td>0.470919</td>\n",
       "      <td>0.47257</td>\n",
       "      <td>0.472846</td>\n",
       "      <td>0.470345</td>\n",
       "      <td>0.471061</td>\n",
       "      <td>0.276482</td>\n",
       "    </tr>\n",
       "    <tr>\n",
       "      <th>min</th>\n",
       "      <td>0.000000</td>\n",
       "      <td>0.000000</td>\n",
       "      <td>0.000000</td>\n",
       "      <td>1.000000</td>\n",
       "      <td>0.000000</td>\n",
       "      <td>0.000000</td>\n",
       "      <td>0.000000</td>\n",
       "      <td>0.000000</td>\n",
       "      <td>0.000000</td>\n",
       "      <td>0.000000</td>\n",
       "      <td>...</td>\n",
       "      <td>0.000000</td>\n",
       "      <td>0.000000</td>\n",
       "      <td>0.000000</td>\n",
       "      <td>0.000000</td>\n",
       "      <td>0.000000</td>\n",
       "      <td>0.00000</td>\n",
       "      <td>0.000000</td>\n",
       "      <td>0.000000</td>\n",
       "      <td>0.000000</td>\n",
       "      <td>0.000000</td>\n",
       "    </tr>\n",
       "    <tr>\n",
       "      <th>25%</th>\n",
       "      <td>0.000000</td>\n",
       "      <td>0.000000</td>\n",
       "      <td>0.000000</td>\n",
       "      <td>21.000000</td>\n",
       "      <td>0.000000</td>\n",
       "      <td>0.000000</td>\n",
       "      <td>0.000000</td>\n",
       "      <td>0.000000</td>\n",
       "      <td>0.000000</td>\n",
       "      <td>0.000000</td>\n",
       "      <td>...</td>\n",
       "      <td>0.000000</td>\n",
       "      <td>0.000000</td>\n",
       "      <td>0.000000</td>\n",
       "      <td>0.000000</td>\n",
       "      <td>0.000000</td>\n",
       "      <td>0.00000</td>\n",
       "      <td>0.000000</td>\n",
       "      <td>0.000000</td>\n",
       "      <td>0.000000</td>\n",
       "      <td>0.281690</td>\n",
       "    </tr>\n",
       "    <tr>\n",
       "      <th>50%</th>\n",
       "      <td>0.000000</td>\n",
       "      <td>1.000000</td>\n",
       "      <td>0.000000</td>\n",
       "      <td>37.000000</td>\n",
       "      <td>0.000000</td>\n",
       "      <td>1.000000</td>\n",
       "      <td>0.000000</td>\n",
       "      <td>0.000000</td>\n",
       "      <td>0.000000</td>\n",
       "      <td>0.000000</td>\n",
       "      <td>...</td>\n",
       "      <td>0.000000</td>\n",
       "      <td>0.000000</td>\n",
       "      <td>0.000000</td>\n",
       "      <td>0.000000</td>\n",
       "      <td>0.000000</td>\n",
       "      <td>0.00000</td>\n",
       "      <td>0.000000</td>\n",
       "      <td>0.000000</td>\n",
       "      <td>0.000000</td>\n",
       "      <td>0.507042</td>\n",
       "    </tr>\n",
       "    <tr>\n",
       "      <th>75%</th>\n",
       "      <td>1.000000</td>\n",
       "      <td>1.000000</td>\n",
       "      <td>1.000000</td>\n",
       "      <td>52.000000</td>\n",
       "      <td>1.000000</td>\n",
       "      <td>1.000000</td>\n",
       "      <td>1.000000</td>\n",
       "      <td>1.000000</td>\n",
       "      <td>0.000000</td>\n",
       "      <td>1.000000</td>\n",
       "      <td>...</td>\n",
       "      <td>1.000000</td>\n",
       "      <td>1.000000</td>\n",
       "      <td>1.000000</td>\n",
       "      <td>1.000000</td>\n",
       "      <td>1.000000</td>\n",
       "      <td>1.00000</td>\n",
       "      <td>1.000000</td>\n",
       "      <td>1.000000</td>\n",
       "      <td>1.000000</td>\n",
       "      <td>0.718310</td>\n",
       "    </tr>\n",
       "    <tr>\n",
       "      <th>max</th>\n",
       "      <td>1.000000</td>\n",
       "      <td>1.000000</td>\n",
       "      <td>1.000000</td>\n",
       "      <td>72.000000</td>\n",
       "      <td>1.000000</td>\n",
       "      <td>1.000000</td>\n",
       "      <td>1.000000</td>\n",
       "      <td>1.000000</td>\n",
       "      <td>1.000000</td>\n",
       "      <td>1.000000</td>\n",
       "      <td>...</td>\n",
       "      <td>1.000000</td>\n",
       "      <td>1.000000</td>\n",
       "      <td>1.000000</td>\n",
       "      <td>1.000000</td>\n",
       "      <td>1.000000</td>\n",
       "      <td>1.00000</td>\n",
       "      <td>1.000000</td>\n",
       "      <td>1.000000</td>\n",
       "      <td>1.000000</td>\n",
       "      <td>1.000000</td>\n",
       "    </tr>\n",
       "  </tbody>\n",
       "</table>\n",
       "<p>8 rows × 22 columns</p>\n",
       "</div>"
      ]
     },
     "execution_count": 274,
     "metadata": {},
     "output_type": "execute_result"
    }
   ],
   "execution_count": 274
  },
  {
   "cell_type": "code",
   "metadata": {
    "ExecuteTime": {
     "end_time": "2025-02-16T15:36:23.531250Z",
     "start_time": "2025-02-16T15:36:23.071181Z"
    }
   },
   "source": [
    "filtered_df = df_preprocessed.drop(columns=['tenure'])\n",
    "# Box plot for the remaining columns\n",
    "sns.boxplot(data=filtered_df, orient='h' )\n",
    "\n",
    "# ax = filtered_df.boxplot(vert=False)\n",
    "\n",
    "plt.show()"
   ],
   "outputs": [
    {
     "data": {
      "text/plain": [
       "<Figure size 640x480 with 1 Axes>"
      ],
      "image/png": "[encoded data removed]"
     },
     "metadata": {},
     "output_type": "display_data"
    }
   ],
   "execution_count": 275
  },
  {
   "cell_type": "code",
   "metadata": {
    "ExecuteTime": {
     "end_time": "2025-02-16T15:36:28.847391Z",
     "start_time": "2025-02-16T15:36:23.572879Z"
    }
   },
   "source": [
    "#Finding the best hyperparameters for the Decision tree\n",
    "\n",
    "x_dt = df_preprocessed.drop(['Churn','scaled_tenure'], axis=1)\n",
    "y_dt = df_preprocessed['Churn']\n",
    "\n",
    "# Split data into training and testing sets\n",
    "x_train_dt, x_test_dt, y_train_dt, y_test_dt = train_test_split(x_dt, y_dt, test_size=0.2, random_state=42)\n",
    "\n",
    "# Define the refined parameter grid\n",
    "param_grid = {\n",
    "    'max_depth': [1, 2, 3, 5, 7],  # Avoiding 'None' since deep trees overfit\n",
    "    'criterion': ['gini', 'entropy'],\n",
    "    'min_samples_split': [2, 3, 5],\n",
    "    'min_samples_leaf': [1, 2, 3]\n",
    "}\n",
    "\n",
    "# Initialize GridSearchCV with 5-fold cross-validation\n",
    "grid_search = GridSearchCV(\n",
    "    estimator=DecisionTreeClassifier(random_state=42),\n",
    "    param_grid=param_grid,\n",
    "    scoring='f1',\n",
    "    cv=5,\n",
    "    verbose=1,\n",
    "    n_jobs=-1\n",
    ")\n",
    "\n",
    "# Perform the grid search\n",
    "grid_search.fit(x_train_dt, y_train_dt)\n",
    "\n",
    "# Retrieve the best model\n",
    "best_clf = grid_search.best_estimator_\n",
    "\n",
    "# Make predictions on the test set using the best model\n",
    "y_pred_dt = best_clf.predict(x_test_dt)\n",
    "\n",
    "# Evaluate the best model\n",
    "accuracy_dt = accuracy_score(y_test_dt, y_pred_dt)\n",
    "precision_dt = precision_score(y_test_dt, y_pred_dt)\n",
    "recall_dt = recall_score(y_test_dt, y_pred_dt)\n",
    "f1_score_dt = f1_score(y_test_dt, y_pred_dt)\n",
    "\n",
    "# Print the results\n",
    "print(\"Best Parameters for Decision Tree Classifier:\", grid_search.best_params_)\n",
    "print(f'Accuracy: {accuracy_dt:.3f}')\n",
    "print(f'Precision: {precision_dt:.3f}')\n",
    "print(f'Recall: {recall_dt:.3f}')\n",
    "print(f'F1 Score: {f1_score_dt:.3f}')\n"
   ],
   "outputs": [
    {
     "name": "stdout",
     "output_type": "stream",
     "text": [
      "Fitting 5 folds for each of 90 candidates, totalling 450 fits\n",
      "Best Parameters for Decision Tree Classifier: {'criterion': 'entropy', 'max_depth': 5, 'min_samples_leaf': 1, 'min_samples_split': 2}\n",
      "Accuracy: 0.510\n",
      "Precision: 0.515\n",
      "Recall: 0.597\n",
      "F1 Score: 0.553\n"
     ]
    }
   ],
   "execution_count": 276
  },
  {
   "cell_type": "code",
   "metadata": {
    "ExecuteTime": {
     "end_time": "2025-02-16T15:36:28.983327Z",
     "start_time": "2025-02-16T15:36:28.850320Z"
    }
   },
   "source": [
    "# Decision Tree Classifier\n",
    "x_dt = df_preprocessed.drop(['Churn','scaled_tenure'], axis=1)\n",
    "y_dt = df_preprocessed['Churn']\n",
    "\n",
    "# Define test sizes to evaluate\n",
    "test_sizes = [0.1, 0.2, 0.3, 0.4]\n",
    "\n",
    "# Store results for each test size\n",
    "results_dt = []\n",
    "\n",
    "for test_size in test_sizes:\n",
    "    # print(f\"\\nTesting with test_size = {test_size}\")\n",
    "\n",
    "    # Split the data\n",
    "    x_train_dt, x_test_dt, y_train_dt, y_test_dt = train_test_split(\n",
    "        x_dt, y_dt, test_size=test_size, random_state=42\n",
    "    )\n",
    "\n",
    "    # Initialize and fit the Decision Tree Classifier with the given hyperparameters\n",
    "    dt_clf = DecisionTreeClassifier(\n",
    "        random_state=42,\n",
    "        criterion='entropy',\n",
    "        max_depth=7,\n",
    "        min_samples_leaf=1,\n",
    "        min_samples_split=2\n",
    "    )\n",
    "    dt_clf.fit(x_train_dt, y_train_dt)\n",
    "\n",
    "    # Make predictions\n",
    "    y_pred_dt = dt_clf.predict(x_test_dt)\n",
    "\n",
    "    # Evaluate performance\n",
    "    accuracy = accuracy_score(y_test_dt, y_pred_dt)\n",
    "    precision = precision_score(y_test_dt, y_pred_dt, pos_label=1)  # Handle undefined precision\n",
    "    recall = recall_score(y_test_dt, y_pred_dt, pos_label=1)\n",
    "    f1 = f1_score(y_test_dt, y_pred_dt, pos_label=1)\n",
    "    auc_roc_lr = roc_auc_score(y_test_dt, y_pred_dt)\n",
    "\n",
    "\n",
    "    # Store the results\n",
    "    results_dt.append((test_size, accuracy, precision, recall, f1, auc_roc_lr ))\n",
    "\n",
    "    # print(f\"Accuracy: {accuracy:.3f}, Precision: {precision:.3f}, Recall: {recall:.3f}, F1-Score: {f1:.3f}\")\n",
    "\n",
    "# Display all results at the end\n",
    "print(\"\\nSummary of Results of Decision Tree Classifier:\")\n",
    "for i, (test_size, accuracy, precision, recall, f1, auc_roc_lr) in enumerate(results_dt):\n",
    "    if i == 1:  # Highlight the second record\n",
    "        print(\n",
    "            f\"\\033[1mTest Size: {test_size:.2f} | Accuracy: {accuracy:.3f}, Precision: {precision:.3f}, Recall: {recall:.3f}, F1-Score: {f1:.3f}, AUC-ROC: {auc_roc_lr:.3f}\\033[0m\")\n",
    "    else:\n",
    "        print(\n",
    "            f\"Test Size: {test_size:.2f} | Accuracy: {accuracy:.3f}, Precision: {precision:.3f}, Recall: {recall:.3f}, F1-Score: {f1:.3f}, AUC-ROC: {auc_roc_lr:.3f}\")\n"
   ],
   "outputs": [
    {
     "name": "stdout",
     "output_type": "stream",
     "text": [
      "\n",
      "Summary of Results of Decision Tree Classifier:\n",
      "Test Size: 0.10 | Accuracy: 0.508, Precision: 0.528, Recall: 0.491, F1-Score: 0.509, AUC-ROC: 0.509\n",
      "\u001B[1mTest Size: 0.20 | Accuracy: 0.499, Precision: 0.506, Recall: 0.531, F1-Score: 0.518, AUC-ROC: 0.499\u001B[0m\n",
      "Test Size: 0.30 | Accuracy: 0.506, Precision: 0.521, Recall: 0.495, F1-Score: 0.508, AUC-ROC: 0.507\n",
      "Test Size: 0.40 | Accuracy: 0.491, Precision: 0.507, Recall: 0.506, F1-Score: 0.506, AUC-ROC: 0.491\n"
     ]
    }
   ],
   "execution_count": 277
  },
  {
   "cell_type": "markdown",
   "metadata": {},
   "source": [
    "Here to write about the manual tuning of parameters"
   ]
  },
  {
   "cell_type": "code",
   "metadata": {
    "ExecuteTime": {
     "end_time": "2025-02-16T15:36:29.427090Z",
     "start_time": "2025-02-16T15:36:29.116847Z"
    }
   },
   "source": [
    "#Finding the best hyperparameters for the Logistic Regression\n",
    "\n",
    "# Finding the best hyperparameters for Logistic Regression\n",
    "x_lr = df_preprocessed.drop(['Churn', 'tenure'], axis=1)\n",
    "y_lr = df_preprocessed['Churn']\n",
    "\n",
    "# Split data into training and testing sets\n",
    "x_train_lr, x_test_lr, y_train_lr, y_test_lr = train_test_split(x_lr, y_lr, test_size=0.2, random_state=42)\n",
    "\n",
    "# Define the parameter grid for Logistic Regression\n",
    "# Define the parameter grid\n",
    "param_grid_lr = [\n",
    "    {'penalty': ['l1'], 'C': [0.01, 0.1, 1, 10], 'solver': ['liblinear'], 'max_iter': [20, 50, 100, 200]},\n",
    "    {'penalty': ['l2'], 'C': [0.01, 0.1, 1, 10], 'solver': ['liblinear', 'saga'], 'max_iter': [20, 50, 100, 200]},\n",
    "    {'penalty': ['elasticnet'], 'C': [0.01, 0.1, 1, 10], 'solver': ['saga'], 'l1_ratio': [0.5], 'max_iter': [20, 50, 100, 200]}\n",
    "]\n",
    "\n",
    "\n",
    "# Initialize GridSearchCV\n",
    "grid_search_lr = GridSearchCV(\n",
    "    estimator=LogisticRegression(random_state=42),\n",
    "    param_grid=param_grid_lr,\n",
    "    scoring='f1',\n",
    "    cv=5,\n",
    "    verbose=1,\n",
    "    n_jobs=-1\n",
    ")\n",
    "\n",
    "# Perform the grid search\n",
    "grid_search_lr.fit(x_train_lr, y_train_lr)\n",
    "\n",
    "# Retrieve the best model from the search\n",
    "best_lr_clf = grid_search_lr.best_estimator_\n",
    "\n",
    "# Make predictions on the test set using the best model\n",
    "y_pred_lr = best_lr_clf.predict(x_test_lr)\n",
    "\n",
    "# Evaluate the best model\n",
    "accuracy_lr = accuracy_score(y_test_lr, y_pred_lr)\n",
    "precision_lr = precision_score(y_test_lr, y_pred_lr)\n",
    "recall_lr = recall_score(y_test_lr, y_pred_lr)\n",
    "f1_score_lr = f1_score(y_test_lr, y_pred_lr)\n",
    "\n",
    "# Print the results\n",
    "print(\"Best Parameters for Logistic Regression Classifier:\", grid_search_lr.best_params_)\n",
    "print(f'Accuracy: {accuracy_lr:.3f}')\n",
    "print(f'Precision: {precision_lr:.3f}')\n",
    "print(f'Recall: {recall_lr:.3f}')\n",
    "print(f'F1 Score: {f1_score_lr:.3f}')\n",
    "\n",
    "#Capture that we need to filter this via f1 because even though it might lead to some extra marketing spend due to false positives, the higher recall ensures you engage every customer who might leave, which is typically the priority in retention strategies."
   ],
   "outputs": [
    {
     "name": "stdout",
     "output_type": "stream",
     "text": [
      "Fitting 5 folds for each of 4 candidates, totalling 20 fits\n",
      "Best Parameters for Logistic Regression Classifier: {'C': 0.01, 'l1_ratio': 0.5, 'max_iter': 20, 'penalty': 'elasticnet', 'solver': 'saga'}\n",
      "Accuracy: 0.507\n",
      "Precision: 0.507\n",
      "Recall: 1.000\n",
      "F1 Score: 0.673\n"
     ]
    }
   ],
   "execution_count": 278
  },
  {
   "cell_type": "code",
   "metadata": {
    "ExecuteTime": {
     "end_time": "2025-02-16T15:36:29.916253Z",
     "start_time": "2025-02-16T15:36:29.596737Z"
    }
   },
   "source": [
    "#Logistic Regression Classifier\n",
    "x_lr = df_preprocessed.drop(['Churn','tenure'], axis=1)\n",
    "y_lr = df_preprocessed['Churn']\n",
    "\n",
    "# Define possible test sizes\n",
    "test_sizes = [0.1, 0.2, 0.3, 0.4]\n",
    "\n",
    "# Store results for each test size\n",
    "results_lr = []\n",
    "\n",
    "for test_size in test_sizes:\n",
    "    # print(f\"\\nTesting with test_size = {test_size}\")\n",
    "\n",
    "    # Split the data\n",
    "    x_train_lr, x_test_lr, y_train_lr, y_test_lr = train_test_split(\n",
    "        x_lr, y_lr, test_size=test_size, random_state=42\n",
    "    )\n",
    "\n",
    "    # Initialize and fit the Logistic Regression model\n",
    "    model = LogisticRegression(\n",
    "    random_state=42,\n",
    "    C=0.01,\n",
    "    l1_ratio=0.5,\n",
    "    max_iter=200,\n",
    "    penalty='elasticnet',\n",
    "    solver='saga',\n",
    "    )\n",
    "\n",
    "    model.fit(x_train_lr, y_train_lr)\n",
    "\n",
    "    # Make predictions\n",
    "    y_pred = model.predict(x_test_lr)\n",
    "\n",
    "    # Evaluate performance\n",
    "    accuracy = accuracy_score(y_test_lr, y_pred)\n",
    "    precision = precision_score(y_test_lr, y_pred, zero_division=1)  # Handle undefined precision\n",
    "    recall = recall_score(y_test_lr, y_pred, zero_division=1)\n",
    "    f1 = f1_score(y_test_lr, y_pred, zero_division=1)\n",
    "    auc_roc = roc_auc_score(y_test_lr, y_pred)\n",
    "\n",
    "    # Store the results\n",
    "    results_lr.append((test_size, accuracy, precision, recall, f1, auc_roc))\n",
    "\n",
    "    # print(f\"Accuracy: {accuracy:.3f}, Precision: {precision:.3f}, Recall: {recall:.3f}, F1-Score: {f1:.3f}\")\n",
    "\n",
    "# Display all results at the end\n",
    "print(\"\\nSummary of Results of Logistic Regression Classifier:\")\n",
    "for i, (test_size, accuracy, precision, recall, f1, auc_roc) in enumerate(results_lr):\n",
    "    if i == 1:  # Highlight the second record\n",
    "        print(\n",
    "            f\"\\033[1mTest Size: {test_size:.2f} | Accuracy: {accuracy:.3f}, Precision: {precision:.3f}, Recall: {recall:.3f}, F1-Score: {f1:.3f}, AUC-ROC: {auc_roc:.3f}\\033[0m\")\n",
    "    else:\n",
    "        print(\n",
    "            f\"Test Size: {test_size:.2f} | Accuracy: {accuracy:.3f}, Precision: {precision:.3f}, Recall: {recall:.3f}, F1-Score: {f1:.3f}, AUC-ROC: {auc_roc:.3f}\")\n"
   ],
   "outputs": [
    {
     "name": "stdout",
     "output_type": "stream",
     "text": [
      "\n",
      "Summary of Results of Logistic Regression Classifier:\n",
      "Test Size: 0.10 | Accuracy: 0.504, Precision: 0.521, Recall: 0.557, F1-Score: 0.538, AUC-ROC: 0.502\n",
      "\u001B[1mTest Size: 0.20 | Accuracy: 0.507, Precision: 0.507, Recall: 1.000, F1-Score: 0.673, AUC-ROC: 0.500\u001B[0m\n",
      "Test Size: 0.30 | Accuracy: 0.486, Precision: 1.000, Recall: 0.000, F1-Score: 0.000, AUC-ROC: 0.500\n",
      "Test Size: 0.40 | Accuracy: 0.484, Precision: 1.000, Recall: 0.000, F1-Score: 0.000, AUC-ROC: 0.500\n"
     ]
    }
   ],
   "execution_count": 279
  },
  {
   "cell_type": "markdown",
   "metadata": {},
   "source": [
    "### **Comparison of Logistic Regression and Decision Tree Models**\n",
    "\n",
    "#### **Performance Comparison Using Evaluation Metrics**\n",
    "\n",
    "| Metric        | Logistic Regression | Decision Tree |\n",
    "|---------------|---------------------|---------------|\n",
    "| **Accuracy**  | **0.507**           | 0.491         |\n",
    "| **Precision** | **0.507**           | 0.499         |\n",
    "| **Recall**    | **1.000**           | 0.630         |\n",
    "| **F1-Score**  | **0.673**           | 0.557         |\n",
    "| **AUC-ROC**   | **0.500**           | 0.488         |\n",
    "\n",
    "#### **Observations**\n",
    "1. **Logistic Regression has better recall (1.000) compared to Decision Tree (0.630)**, meaning it captures all churn cases, but this might indicate it is predicting all customers as churners.\n",
    "2. **F1-score is higher for Logistic Regression (0.673 vs. 0.557), meaning it balances precision and recall better.**\n",
    "3. **Accuracy is slightly better for Logistic Regression (50.7% vs. 49.1%), but both models are close to random guessing (~50%).**\n",
    "4. **AUC-ROC for both models is poor (Logistic Regression = 0.500, Decision Tree = 0.488), indicating neither model is effectively separating churners from non-churners.**\n",
    "\n",
    "#### **Conclusion**\n",
    "- **Logistic Regression performs better in terms of recall and F1-score, making it preferable for capturing churn cases.**\n",
    "- **However, its AUC-ROC score suggests that it does not separate the classes well and might be over-predicting churn.**\n",
    "- **Decision Tree is worse overall and does not add significant improvement.**\n",
    "\n",
    "We will now use K-Nearest Neighbour and Ensemble Methods to check if we can improve on the performance.\n"
   ]
  },
  {
   "cell_type": "markdown",
   "metadata": {},
   "source": [
    "#Assignment 2"
   ]
  },
  {
   "cell_type": "code",
   "metadata": {
    "ExecuteTime": {
     "end_time": "2025-02-16T15:36:30.694702Z",
     "start_time": "2025-02-16T15:36:30.087688Z"
    }
   },
   "source": [
    "# K-Nearest Neighbors Classifier\n",
    "\n",
    "from sklearn.neighbors import KNeighborsClassifier\n",
    "from sklearn.model_selection import train_test_split\n",
    "from sklearn.metrics import accuracy_score, precision_score, recall_score, f1_score, roc_auc_score\n",
    "\n",
    "# Define features and target\n",
    "x_knn = df_preprocessed.drop(['Churn', 'tenure'], axis=1)\n",
    "y_knn = df_preprocessed['Churn']\n",
    "\n",
    "# Define possible test sizes\n",
    "test_sizes = [0.1, 0.2, 0.3, 0.4]\n",
    "\n",
    "# Store results for each test size\n",
    "results_knn = []\n",
    "\n",
    "for test_size in test_sizes:\n",
    "    # Split the data\n",
    "    x_train_knn, x_test_knn, y_train_knn, y_test_knn = train_test_split(\n",
    "        x_knn, y_knn, test_size=test_size, random_state=42\n",
    "    )\n",
    "\n",
    "    # Initialize the KNN model with the specified hyperparameters (Hyper parameters are taken from the grid search)\n",
    "    knn_model = KNeighborsClassifier(\n",
    "        metric='euclidean',\n",
    "        n_neighbors=5,\n",
    "        weights='distance'\n",
    "    )\n",
    "\n",
    "    # Fit the model\n",
    "    knn_model.fit(x_train_knn, y_train_knn)\n",
    "\n",
    "    # Make predictions\n",
    "    y_pred_knn = knn_model.predict(x_test_knn)\n",
    "\n",
    "    # Evaluate performance\n",
    "    accuracy = accuracy_score(y_test_knn, y_pred_knn)\n",
    "    precision = precision_score(y_test_knn, y_pred_knn, zero_division=1)\n",
    "    recall = recall_score(y_test_knn, y_pred_knn, zero_division=1)\n",
    "    f1 = f1_score(y_test_knn, y_pred_knn, zero_division=1)\n",
    "    auc_roc = roc_auc_score(y_test_knn, y_pred_knn)\n",
    "\n",
    "    # Store the results\n",
    "    results_knn.append((test_size, accuracy, precision, recall, f1, auc_roc))\n",
    "\n",
    "# Display all results at the end\n",
    "print(\"\\nSummary of Results for K-Nearest Neighbors Classifier:\")\n",
    "for i, (test_size, accuracy, precision, recall, f1, auc_roc) in enumerate(results_knn):\n",
    "    if i == 1:  # Highlight the second record\n",
    "        print(\n",
    "            f\"\\033[1mTest Size: {test_size:.2f} | Accuracy: {accuracy:.3f}, Precision: {precision:.3f}, Recall: {recall:.3f}, F1-Score: {f1:.3f}, AUC-ROC: {auc_roc:.3f}\\033[0m\")\n",
    "    else:\n",
    "        print(\n",
    "            f\"Test Size: {test_size:.2f} | Accuracy: {accuracy:.3f}, Precision: {precision:.3f}, Recall: {recall:.3f}, F1-Score: {f1:.3f}, AUC-ROC: {auc_roc:.3f}\")\n",
    "\n",
    "\n"
   ],
   "outputs": [
    {
     "name": "stdout",
     "output_type": "stream",
     "text": [
      "\n",
      "Summary of Results for K-Nearest Neighbors Classifier:\n",
      "Test Size: 0.10 | Accuracy: 0.514, Precision: 0.533, Recall: 0.507, F1-Score: 0.520, AUC-ROC: 0.514\n",
      "\u001B[1mTest Size: 0.20 | Accuracy: 0.493, Precision: 0.501, Recall: 0.481, F1-Score: 0.491, AUC-ROC: 0.494\u001B[0m\n",
      "Test Size: 0.30 | Accuracy: 0.501, Precision: 0.516, Recall: 0.490, F1-Score: 0.502, AUC-ROC: 0.502\n",
      "Test Size: 0.40 | Accuracy: 0.501, Precision: 0.518, Recall: 0.486, F1-Score: 0.502, AUC-ROC: 0.502\n"
     ]
    }
   ],
   "execution_count": 280
  },
  {
   "cell_type": "code",
   "metadata": {
    "ExecuteTime": {
     "end_time": "2025-02-16T15:36:38.517679Z",
     "start_time": "2025-02-16T15:36:30.857721Z"
    }
   },
   "source": [
    "# Random Forest Classifier\n",
    "\n",
    "from sklearn.ensemble import RandomForestClassifier\n",
    "from sklearn.model_selection import train_test_split\n",
    "from sklearn.metrics import accuracy_score, precision_score, recall_score, f1_score, roc_auc_score\n",
    "\n",
    "# Feature matrix and target variable\n",
    "x_rf = df_preprocessed.drop(['Churn', 'tenure'], axis=1)\n",
    "y_rf = df_preprocessed['Churn']\n",
    "\n",
    "# Define possible test sizes\n",
    "test_sizes = [0.1, 0.2, 0.3, 0.4]\n",
    "\n",
    "# Store results for each test size\n",
    "results_rf = []\n",
    "\n",
    "for test_size in test_sizes:\n",
    "    # Split the data\n",
    "    x_train_rf, x_test_rf, y_train_rf, y_test_rf = train_test_split(\n",
    "        x_rf, y_rf, test_size=test_size, random_state=42\n",
    "    )\n",
    "\n",
    "    # Initialize Random Forest model with specified hyperparameters\n",
    "    rf_model = RandomForestClassifier(\n",
    "        n_estimators=100,  # Number of trees in the forest\n",
    "        max_depth=None,  # Maximum depth of the tree (None means nodes expand until all leaves are pure)\n",
    "        random_state=42,  # Random seed for reproducibility\n",
    "        bootstrap=True,  # Bagging enabled\n",
    "    )\n",
    "\n",
    "    # Fit the model on the training data\n",
    "    rf_model.fit(x_train_rf, y_train_rf)\n",
    "\n",
    "    # Make predictions on the test data\n",
    "    y_pred_rf = rf_model.predict(x_test_rf)\n",
    "\n",
    "    # Evaluate performance\n",
    "    accuracy = accuracy_score(y_test_rf, y_pred_rf)\n",
    "    precision = precision_score(y_test_rf, y_pred_rf, zero_division=1)\n",
    "    recall = recall_score(y_test_rf, y_pred_rf, zero_division=1)\n",
    "    f1 = f1_score(y_test_rf, y_pred_rf, zero_division=1)\n",
    "    auc_roc = roc_auc_score(y_test_rf, y_pred_rf)\n",
    "\n",
    "    # Store results\n",
    "    results_rf.append((test_size, accuracy, precision, recall, f1, auc_roc))\n",
    "\n",
    "# Display all results at the end\n",
    "print(\"\\nSummary of Results for Random Forest Classifier (Bagging):\")\n",
    "for i, (test_size, accuracy, precision, recall, f1, auc_roc) in enumerate(results_rf):\n",
    "    if i == 1:  # Highlight the second record\n",
    "        print(\n",
    "            f\"\\033[1mTest Size: {test_size:.2f} | Accuracy: {accuracy:.3f}, Precision: {precision:.3f}, Recall: {recall:.3f}, F1-Score: {f1:.3f}, AUC-ROC: {auc_roc:.3f}\\033[0m\"\n",
    "        )\n",
    "    else:\n",
    "        print(\n",
    "            f\"Test Size: {test_size:.2f} | Accuracy: {accuracy:.3f}, Precision: {precision:.3f}, Recall: {recall:.3f}, F1-Score: {f1:.3f}, AUC-ROC: {auc_roc:.3f}\"\n",
    "        )\n"
   ],
   "outputs": [
    {
     "name": "stdout",
     "output_type": "stream",
     "text": [
      "\n",
      "Summary of Results for Random Forest Classifier (Bagging):\n",
      "Test Size: 0.10 | Accuracy: 0.526, Precision: 0.545, Recall: 0.524, F1-Score: 0.534, AUC-ROC: 0.526\n",
      "\u001B[1mTest Size: 0.20 | Accuracy: 0.488, Precision: 0.496, Recall: 0.485, F1-Score: 0.490, AUC-ROC: 0.489\u001B[0m\n",
      "Test Size: 0.30 | Accuracy: 0.503, Precision: 0.517, Recall: 0.491, F1-Score: 0.504, AUC-ROC: 0.503\n",
      "Test Size: 0.40 | Accuracy: 0.507, Precision: 0.524, Recall: 0.485, F1-Score: 0.504, AUC-ROC: 0.508\n"
     ]
    }
   ],
   "execution_count": 281
  },
  {
   "cell_type": "code",
   "metadata": {
    "ExecuteTime": {
     "end_time": "2025-02-16T15:36:38.779201Z",
     "start_time": "2025-02-16T15:36:38.706067Z"
    }
   },
   "source": [
    "import pandas as pd\n",
    "import plotly.express as px\n",
    "\n",
    "# Data\n",
    "models = ['Decision Tree', 'Logistic Regression', 'KNN', 'Random Forest']\n",
    "metrics = ['Accuracy', 'Precision', 'Recall', 'F1-Score', 'AUC-ROC']\n",
    "\n",
    "# Extract the second (index 1) results for each model and round to 3 decimal places\n",
    "data = {\n",
    "    'Decision Tree': [round(metric, 3) for metric in results_dt[1][1:]],  # Skip the test size (1st item)\n",
    "    'Logistic Regression': [round(metric, 3) for metric in results_lr[1][1:]],  # Skip the test size\n",
    "    'KNN': [round(metric, 3) for metric in results_knn[1][1:]],  # Skip the test size\n",
    "    'Random Forest': [round(metric, 3) for metric in results_rf[1][1:]]  # Skip the test size\n",
    "}\n",
    "\n",
    "# Print the created data dictionary\n",
    "# print(\"Extracted Data (Rounded to 3 Decimal Places):\")\n",
    "# print(data)\n",
    "\n",
    "# Convert to DataFrame\n",
    "df_models = pd.DataFrame(data, index=metrics)\n",
    "\n",
    "# Transform DataFrame into long format for Plotly\n",
    "df_melted = df_models.reset_index().melt(id_vars='index', var_name='Model', value_name='Score')\n",
    "df_melted.rename(columns={'index': 'Metric'}, inplace=True)\n",
    "\n",
    "# Plot using Plotly\n",
    "fig = px.histogram(\n",
    "    df_melted,\n",
    "    x='Metric',  # Metrics on the x-axis\n",
    "    y='Score',  # Scores on the y-axis\n",
    "    color='Model',  # Grouped by models\n",
    "    barmode='group',  # Bars grouped side-by-side\n",
    "    title='Model Performance Comparison',  # Title of the chart\n",
    "    color_discrete_sequence=px.colors.qualitative.Prism  # Define color palette\n",
    ")\n",
    "\n",
    "# Customize layout\n",
    "fig.update_layout(\n",
    "    xaxis_title='Evaluation Metrics',\n",
    "    yaxis_title='Score',\n",
    "    width=1000,\n",
    "    height=500,\n",
    "    legend_title='Models'\n",
    ")\n",
    "\n",
    "# Show the interactive plot\n",
    "fig.show()\n"
   ],
   "outputs": [
    {
     "data": {
      "application/vnd.plotly.v1+json": {
       "data": [
        {
         "alignmentgroup": "True",
         "bingroup": "x",
         "histfunc": "sum",
         "hovertemplate": "Model=Decision Tree<br>Metric=%{x}<br>sum of Score=%{y}<extra></extra>",
         "legendgroup": "Decision Tree",
         "marker": {
          "color": "rgb(95, 70, 144)",
          "pattern": {
           "shape": ""
          }
         },
         "name": "Decision Tree",
         "offsetgroup": "Decision Tree",
         "orientation": "v",
         "showlegend": true,
         "x": [
          "Accuracy",
          "Precision",
          "Recall",
          "F1-Score",
          "AUC-ROC"
         ],
         "xaxis": "x",
         "y": [
          0.499,
          0.506,
          0.531,
          0.518,
          0.499
         ],
         "yaxis": "y",
         "type": "histogram"
        },
        {
         "alignmentgroup": "True",
         "bingroup": "x",
         "histfunc": "sum",
         "hovertemplate": "Model=Logistic Regression<br>Metric=%{x}<br>sum of Score=%{y}<extra></extra>",
         "legendgroup": "Logistic Regression",
         "marker": {
          "color": "rgb(29, 105, 150)",
          "pattern": {
           "shape": ""
          }
         },
         "name": "Logistic Regression",
         "offsetgroup": "Logistic Regression",
         "orientation": "v",
         "showlegend": true,
         "x": [
          "Accuracy",
          "Precision",
          "Recall",
          "F1-Score",
          "AUC-ROC"
         ],
         "xaxis": "x",
         "y": [
          0.507,
          0.507,
          1.0,
          0.673,
          0.5
         ],
         "yaxis": "y",
         "type": "histogram"
        },
        {
         "alignmentgroup": "True",
         "bingroup": "x",
         "histfunc": "sum",
         "hovertemplate": "Model=KNN<br>Metric=%{x}<br>sum of Score=%{y}<extra></extra>",
         "legendgroup": "KNN",
         "marker": {
          "color": "rgb(56, 166, 165)",
          "pattern": {
           "shape": ""
          }
         },
         "name": "KNN",
         "offsetgroup": "KNN",
         "orientation": "v",
         "showlegend": true,
         "x": [
          "Accuracy",
          "Precision",
          "Recall",
          "F1-Score",
          "AUC-ROC"
         ],
         "xaxis": "x",
         "y": [
          0.494,
          0.501,
          0.481,
          0.491,
          0.494
         ],
         "yaxis": "y",
         "type": "histogram"
        },
        {
         "alignmentgroup": "True",
         "bingroup": "x",
         "histfunc": "sum",
         "hovertemplate": "Model=Random Forest<br>Metric=%{x}<br>sum of Score=%{y}<extra></extra>",
         "legendgroup": "Random Forest",
         "marker": {
          "color": "rgb(15, 133, 84)",
          "pattern": {
           "shape": ""
          }
         },
         "name": "Random Forest",
         "offsetgroup": "Random Forest",
         "orientation": "v",
         "showlegend": true,
         "x": [
          "Accuracy",
          "Precision",
          "Recall",
          "F1-Score",
          "AUC-ROC"
         ],
         "xaxis": "x",
         "y": [
          0.488,
          0.496,
          0.485,
          0.49,
          0.489
         ],
         "yaxis": "y",
         "type": "histogram"
        }
       ],
       "layout": {
        "template": {
         "data": {
          "histogram2dcontour": [
           {
            "type": "histogram2dcontour",
            "colorbar": {
             "outlinewidth": 0,
             "ticks": ""
            },
            "colorscale": [
             [
              0.0,
              "#0d0887"
             ],
             [
              0.1111111111111111,
              "#46039f"
             ],
             [
              0.2222222222222222,
              "#7201a8"
             ],
             [
              0.3333333333333333,
              "#9c179e"
             ],
             [
              0.4444444444444444,
              "#bd3786"
             ],
             [
              0.5555555555555556,
              "#d8576b"
             ],
             [
              0.6666666666666666,
              "#ed7953"
             ],
             [
              0.7777777777777778,
              "#fb9f3a"
             ],
             [
              0.8888888888888888,
              "#fdca26"
             ],
             [
              1.0,
              "#f0f921"
             ]
            ]
           }
          ],
          "choropleth": [
           {
            "type": "choropleth",
            "colorbar": {
             "outlinewidth": 0,
             "ticks": ""
            }
           }
          ],
          "histogram2d": [
           {
            "type": "histogram2d",
            "colorbar": {
             "outlinewidth": 0,
             "ticks": ""
            },
            "colorscale": [
             [
              0.0,
              "#0d0887"
             ],
             [
              0.1111111111111111,
              "#46039f"
             ],
             [
              0.2222222222222222,
              "#7201a8"
             ],
             [
              0.3333333333333333,
              "#9c179e"
             ],
             [
              0.4444444444444444,
              "#bd3786"
             ],
             [
              0.5555555555555556,
              "#d8576b"
             ],
             [
              0.6666666666666666,
              "#ed7953"
             ],
             [
              0.7777777777777778,
              "#fb9f3a"
             ],
             [
              0.8888888888888888,
              "#fdca26"
             ],
             [
              1.0,
              "#f0f921"
             ]
            ]
           }
          ],
          "heatmap": [
           {
            "type": "heatmap",
            "colorbar": {
             "outlinewidth": 0,
             "ticks": ""
            },
            "colorscale": [
             [
              0.0,
              "#0d0887"
             ],
             [
              0.1111111111111111,
              "#46039f"
             ],
             [
              0.2222222222222222,
              "#7201a8"
             ],
             [
              0.3333333333333333,
              "#9c179e"
             ],
             [
              0.4444444444444444,
              "#bd3786"
             ],
             [
              0.5555555555555556,
              "#d8576b"
             ],
             [
              0.6666666666666666,
              "#ed7953"
             ],
             [
              0.7777777777777778,
              "#fb9f3a"
             ],
             [
              0.8888888888888888,
              "#fdca26"
             ],
             [
              1.0,
              "#f0f921"
             ]
            ]
           }
          ],
          "heatmapgl": [
           {
            "type": "heatmapgl",
            "colorbar": {
             "outlinewidth": 0,
             "ticks": ""
            },
            "colorscale": [
             [
              0.0,
              "#0d0887"
             ],
             [
              0.1111111111111111,
              "#46039f"
             ],
             [
              0.2222222222222222,
              "#7201a8"
             ],
             [
              0.3333333333333333,
              "#9c179e"
             ],
             [
              0.4444444444444444,
              "#bd3786"
             ],
             [
              0.5555555555555556,
              "#d8576b"
             ],
             [
              0.6666666666666666,
              "#ed7953"
             ],
             [
              0.7777777777777778,
              "#fb9f3a"
             ],
             [
              0.8888888888888888,
              "#fdca26"
             ],
             [
              1.0,
              "#f0f921"
             ]
            ]
           }
          ],
          "contourcarpet": [
           {
            "type": "contourcarpet",
            "colorbar": {
             "outlinewidth": 0,
             "ticks": ""
            }
           }
          ],
          "contour": [
           {
            "type": "contour",
            "colorbar": {
             "outlinewidth": 0,
             "ticks": ""
            },
            "colorscale": [
             [
              0.0,
              "#0d0887"
             ],
             [
              0.1111111111111111,
              "#46039f"
             ],
             [
              0.2222222222222222,
              "#7201a8"
             ],
             [
              0.3333333333333333,
              "#9c179e"
             ],
             [
              0.4444444444444444,
              "#bd3786"
             ],
             [
              0.5555555555555556,
              "#d8576b"
             ],
             [
              0.6666666666666666,
              "#ed7953"
             ],
             [
              0.7777777777777778,
              "#fb9f3a"
             ],
             [
              0.8888888888888888,
              "#fdca26"
             ],
             [
              1.0,
              "#f0f921"
             ]
            ]
           }
          ],
          "surface": [
           {
            "type": "surface",
            "colorbar": {
             "outlinewidth": 0,
             "ticks": ""
            },
            "colorscale": [
             [
              0.0,
              "#0d0887"
             ],
             [
              0.1111111111111111,
              "#46039f"
             ],
             [
              0.2222222222222222,
              "#7201a8"
             ],
             [
              0.3333333333333333,
              "#9c179e"
             ],
             [
              0.4444444444444444,
              "#bd3786"
             ],
             [
              0.5555555555555556,
              "#d8576b"
             ],
             [
              0.6666666666666666,
              "#ed7953"
             ],
             [
              0.7777777777777778,
              "#fb9f3a"
             ],
             [
              0.8888888888888888,
              "#fdca26"
             ],
             [
              1.0,
              "#f0f921"
             ]
            ]
           }
          ],
          "mesh3d": [
           {
            "type": "mesh3d",
            "colorbar": {
             "outlinewidth": 0,
             "ticks": ""
            }
           }
          ],
          "scatter": [
           {
            "marker": {
             "line": {
              "color": "#283442"
             }
            },
            "type": "scatter"
           }
          ],
          "parcoords": [
           {
            "type": "parcoords",
            "line": {
             "colorbar": {
              "outlinewidth": 0,
              "ticks": ""
             }
            }
           }
          ],
          "scatterpolargl": [
           {
            "type": "scatterpolargl",
            "marker": {
             "colorbar": {
              "outlinewidth": 0,
              "ticks": ""
             }
            }
           }
          ],
          "bar": [
           {
            "error_x": {
             "color": "#f2f5fa"
            },
            "error_y": {
             "color": "#f2f5fa"
            },
            "marker": {
             "line": {
              "color": "rgb(17,17,17)",
              "width": 0.5
             },
             "pattern": {
              "fillmode": "overlay",
              "size": 10,
              "solidity": 0.2
             }
            },
            "type": "bar"
           }
          ],
          "scattergeo": [
           {
            "type": "scattergeo",
            "marker": {
             "colorbar": {
              "outlinewidth": 0,
              "ticks": ""
             }
            }
           }
          ],
          "scatterpolar": [
           {
            "type": "scatterpolar",
            "marker": {
             "colorbar": {
              "outlinewidth": 0,
              "ticks": ""
             }
            }
           }
          ],
          "histogram": [
           {
            "marker": {
             "pattern": {
              "fillmode": "overlay",
              "size": 10,
              "solidity": 0.2
             }
            },
            "type": "histogram"
           }
          ],
          "scattergl": [
           {
            "marker": {
             "line": {
              "color": "#283442"
             }
            },
            "type": "scattergl"
           }
          ],
          "scatter3d": [
           {
            "type": "scatter3d",
            "line": {
             "colorbar": {
              "outlinewidth": 0,
              "ticks": ""
             }
            },
            "marker": {
             "colorbar": {
              "outlinewidth": 0,
              "ticks": ""
             }
            }
           }
          ],
          "scattermapbox": [
           {
            "type": "scattermapbox",
            "marker": {
             "colorbar": {
              "outlinewidth": 0,
              "ticks": ""
             }
            }
           }
          ],
          "scatterternary": [
           {
            "type": "scatterternary",
            "marker": {
             "colorbar": {
              "outlinewidth": 0,
              "ticks": ""
             }
            }
           }
          ],
          "scattercarpet": [
           {
            "type": "scattercarpet",
            "marker": {
             "colorbar": {
              "outlinewidth": 0,
              "ticks": ""
             }
            }
           }
          ],
          "carpet": [
           {
            "aaxis": {
             "endlinecolor": "#A2B1C6",
             "gridcolor": "#506784",
             "linecolor": "#506784",
             "minorgridcolor": "#506784",
             "startlinecolor": "#A2B1C6"
            },
            "baxis": {
             "endlinecolor": "#A2B1C6",
             "gridcolor": "#506784",
             "linecolor": "#506784",
             "minorgridcolor": "#506784",
             "startlinecolor": "#A2B1C6"
            },
            "type": "carpet"
           }
          ],
          "table": [
           {
            "cells": {
             "fill": {
              "color": "#506784"
             },
             "line": {
              "color": "rgb(17,17,17)"
             }
            },
            "header": {
             "fill": {
              "color": "#2a3f5f"
             },
             "line": {
              "color": "rgb(17,17,17)"
             }
            },
            "type": "table"
           }
          ],
          "barpolar": [
           {
            "marker": {
             "line": {
              "color": "rgb(17,17,17)",
              "width": 0.5
             },
             "pattern": {
              "fillmode": "overlay",
              "size": 10,
              "solidity": 0.2
             }
            },
            "type": "barpolar"
           }
          ],
          "pie": [
           {
            "automargin": true,
            "type": "pie"
           }
          ]
         },
         "layout": {
          "autotypenumbers": "strict",
          "colorway": [
           "#636efa",
           "#EF553B",
           "#00cc96",
           "#ab63fa",
           "#FFA15A",
           "#19d3f3",
           "#FF6692",
           "#B6E880",
           "#FF97FF",
           "#FECB52"
          ],
          "font": {
           "color": "#f2f5fa"
          },
          "hovermode": "closest",
          "hoverlabel": {
           "align": "left"
          },
          "paper_bgcolor": "rgb(17,17,17)",
          "plot_bgcolor": "rgb(17,17,17)",
          "polar": {
           "bgcolor": "rgb(17,17,17)",
           "angularaxis": {
            "gridcolor": "#506784",
            "linecolor": "#506784",
            "ticks": ""
           },
           "radialaxis": {
            "gridcolor": "#506784",
            "linecolor": "#506784",
            "ticks": ""
           }
          },
          "ternary": {
           "bgcolor": "rgb(17,17,17)",
           "aaxis": {
            "gridcolor": "#506784",
            "linecolor": "#506784",
            "ticks": ""
           },
           "baxis": {
            "gridcolor": "#506784",
            "linecolor": "#506784",
            "ticks": ""
           },
           "caxis": {
            "gridcolor": "#506784",
            "linecolor": "#506784",
            "ticks": ""
           }
          },
          "coloraxis": {
           "colorbar": {
            "outlinewidth": 0,
            "ticks": ""
           }
          },
          "colorscale": {
           "sequential": [
            [
             0.0,
             "#0d0887"
            ],
            [
             0.1111111111111111,
             "#46039f"
            ],
            [
             0.2222222222222222,
             "#7201a8"
            ],
            [
             0.3333333333333333,
             "#9c179e"
            ],
            [
             0.4444444444444444,
             "#bd3786"
            ],
            [
             0.5555555555555556,
             "#d8576b"
            ],
            [
             0.6666666666666666,
             "#ed7953"
            ],
            [
             0.7777777777777778,
             "#fb9f3a"
            ],
            [
             0.8888888888888888,
             "#fdca26"
            ],
            [
             1.0,
             "#f0f921"
            ]
           ],
           "sequentialminus": [
            [
             0.0,
             "#0d0887"
            ],
            [
             0.1111111111111111,
             "#46039f"
            ],
            [
             0.2222222222222222,
             "#7201a8"
            ],
            [
             0.3333333333333333,
             "#9c179e"
            ],
            [
             0.4444444444444444,
             "#bd3786"
            ],
            [
             0.5555555555555556,
             "#d8576b"
            ],
            [
             0.6666666666666666,
             "#ed7953"
            ],
            [
             0.7777777777777778,
             "#fb9f3a"
            ],
            [
             0.8888888888888888,
             "#fdca26"
            ],
            [
             1.0,
             "#f0f921"
            ]
           ],
           "diverging": [
            [
             0,
             "#8e0152"
            ],
            [
             0.1,
             "#c51b7d"
            ],
            [
             0.2,
             "#de77ae"
            ],
            [
             0.3,
             "#f1b6da"
            ],
            [
             0.4,
             "#fde0ef"
            ],
            [
             0.5,
             "#f7f7f7"
            ],
            [
             0.6,
             "#e6f5d0"
            ],
            [
             0.7,
             "#b8e186"
            ],
            [
             0.8,
             "#7fbc41"
            ],
            [
             0.9,
             "#4d9221"
            ],
            [
             1,
             "#276419"
            ]
           ]
          },
          "xaxis": {
           "gridcolor": "#283442",
           "linecolor": "#506784",
           "ticks": "",
           "title": {
            "standoff": 15
           },
           "zerolinecolor": "#283442",
           "automargin": true,
           "zerolinewidth": 2
          },
          "yaxis": {
           "gridcolor": "#283442",
           "linecolor": "#506784",
           "ticks": "",
           "title": {
            "standoff": 15
           },
           "zerolinecolor": "#283442",
           "automargin": true,
           "zerolinewidth": 2
          },
          "scene": {
           "xaxis": {
            "backgroundcolor": "rgb(17,17,17)",
            "gridcolor": "#506784",
            "linecolor": "#506784",
            "showbackground": true,
            "ticks": "",
            "zerolinecolor": "#C8D4E3",
            "gridwidth": 2
           },
           "yaxis": {
            "backgroundcolor": "rgb(17,17,17)",
            "gridcolor": "#506784",
            "linecolor": "#506784",
            "showbackground": true,
            "ticks": "",
            "zerolinecolor": "#C8D4E3",
            "gridwidth": 2
           },
           "zaxis": {
            "backgroundcolor": "rgb(17,17,17)",
            "gridcolor": "#506784",
            "linecolor": "#506784",
            "showbackground": true,
            "ticks": "",
            "zerolinecolor": "#C8D4E3",
            "gridwidth": 2
           }
          },
          "shapedefaults": {
           "line": {
            "color": "#f2f5fa"
           }
          },
          "annotationdefaults": {
           "arrowcolor": "#f2f5fa",
           "arrowhead": 0,
           "arrowwidth": 1
          },
          "geo": {
           "bgcolor": "rgb(17,17,17)",
           "landcolor": "rgb(17,17,17)",
           "subunitcolor": "#506784",
           "showland": true,
           "showlakes": true,
           "lakecolor": "rgb(17,17,17)"
          },
          "title": {
           "x": 0.05
          },
          "updatemenudefaults": {
           "bgcolor": "#506784",
           "borderwidth": 0
          },
          "sliderdefaults": {
           "bgcolor": "#C8D4E3",
           "borderwidth": 1,
           "bordercolor": "rgb(17,17,17)",
           "tickwidth": 0
          },
          "mapbox": {
           "style": "dark"
          }
         }
        },
        "xaxis": {
         "anchor": "y",
         "domain": [
          0.0,
          1.0
         ],
         "title": {
          "text": "Evaluation Metrics"
         }
        },
        "yaxis": {
         "anchor": "x",
         "domain": [
          0.0,
          1.0
         ],
         "title": {
          "text": "Score"
         }
        },
        "legend": {
         "title": {
          "text": "Models"
         },
         "tracegroupgap": 0
        },
        "title": {
         "text": "Model Performance Comparison"
        },
        "barmode": "group",
        "width": 1000,
        "height": 500
       },
       "config": {
        "plotlyServerURL": "https://plot.ly"
       }
      },
      "text/html": [
       "<div>                            <div id=\"cc4eee97-0ae5-4ebd-8031-fa4d292993e8\" class=\"plotly-graph-div\" style=\"height:500px; width:1000px;\"></div>            <script type=\"text/javascript\">                require([\"plotly\"], function(Plotly) {                    window.PLOTLYENV=window.PLOTLYENV || {};                                    if (document.getElementById(\"cc4eee97-0ae5-4ebd-8031-fa4d292993e8\")) {                    Plotly.newPlot(                        \"cc4eee97-0ae5-4ebd-8031-fa4d292993e8\",                        [{\"alignmentgroup\":\"True\",\"bingroup\":\"x\",\"histfunc\":\"sum\",\"hovertemplate\":\"Model=Decision Tree<br>Metric=%{x}<br>sum of Score=%{y}<extra></extra>\",\"legendgroup\":\"Decision Tree\",\"marker\":{\"color\":\"rgb(95, 70, 144)\",\"pattern\":{\"shape\":\"\"}},\"name\":\"Decision Tree\",\"offsetgroup\":\"Decision Tree\",\"orientation\":\"v\",\"showlegend\":true,\"x\":[\"Accuracy\",\"Precision\",\"Recall\",\"F1-Score\",\"AUC-ROC\"],\"xaxis\":\"x\",\"y\":[0.499,0.506,0.531,0.518,0.499],\"yaxis\":\"y\",\"type\":\"histogram\"},{\"alignmentgroup\":\"True\",\"bingroup\":\"x\",\"histfunc\":\"sum\",\"hovertemplate\":\"Model=Logistic Regression<br>Metric=%{x}<br>sum of Score=%{y}<extra></extra>\",\"legendgroup\":\"Logistic Regression\",\"marker\":{\"color\":\"rgb(29, 105, 150)\",\"pattern\":{\"shape\":\"\"}},\"name\":\"Logistic Regression\",\"offsetgroup\":\"Logistic Regression\",\"orientation\":\"v\",\"showlegend\":true,\"x\":[\"Accuracy\",\"Precision\",\"Recall\",\"F1-Score\",\"AUC-ROC\"],\"xaxis\":\"x\",\"y\":[0.507,0.507,1.0,0.673,0.5],\"yaxis\":\"y\",\"type\":\"histogram\"},{\"alignmentgroup\":\"True\",\"bingroup\":\"x\",\"histfunc\":\"sum\",\"hovertemplate\":\"Model=KNN<br>Metric=%{x}<br>sum of Score=%{y}<extra></extra>\",\"legendgroup\":\"KNN\",\"marker\":{\"color\":\"rgb(56, 166, 165)\",\"pattern\":{\"shape\":\"\"}},\"name\":\"KNN\",\"offsetgroup\":\"KNN\",\"orientation\":\"v\",\"showlegend\":true,\"x\":[\"Accuracy\",\"Precision\",\"Recall\",\"F1-Score\",\"AUC-ROC\"],\"xaxis\":\"x\",\"y\":[0.494,0.501,0.481,0.491,0.494],\"yaxis\":\"y\",\"type\":\"histogram\"},{\"alignmentgroup\":\"True\",\"bingroup\":\"x\",\"histfunc\":\"sum\",\"hovertemplate\":\"Model=Random Forest<br>Metric=%{x}<br>sum of Score=%{y}<extra></extra>\",\"legendgroup\":\"Random Forest\",\"marker\":{\"color\":\"rgb(15, 133, 84)\",\"pattern\":{\"shape\":\"\"}},\"name\":\"Random Forest\",\"offsetgroup\":\"Random Forest\",\"orientation\":\"v\",\"showlegend\":true,\"x\":[\"Accuracy\",\"Precision\",\"Recall\",\"F1-Score\",\"AUC-ROC\"],\"xaxis\":\"x\",\"y\":[0.488,0.496,0.485,0.49,0.489],\"yaxis\":\"y\",\"type\":\"histogram\"}],                        {\"template\":{\"data\":{\"histogram2dcontour\":[{\"type\":\"histogram2dcontour\",\"colorbar\":{\"outlinewidth\":0,\"ticks\":\"\"},\"colorscale\":[[0.0,\"#0d0887\"],[0.1111111111111111,\"#46039f\"],[0.2222222222222222,\"#7201a8\"],[0.3333333333333333,\"#9c179e\"],[0.4444444444444444,\"#bd3786\"],[0.5555555555555556,\"#d8576b\"],[0.6666666666666666,\"#ed7953\"],[0.7777777777777778,\"#fb9f3a\"],[0.8888888888888888,\"#fdca26\"],[1.0,\"#f0f921\"]]}],\"choropleth\":[{\"type\":\"choropleth\",\"colorbar\":{\"outlinewidth\":0,\"ticks\":\"\"}}],\"histogram2d\":[{\"type\":\"histogram2d\",\"colorbar\":{\"outlinewidth\":0,\"ticks\":\"\"},\"colorscale\":[[0.0,\"#0d0887\"],[0.1111111111111111,\"#46039f\"],[0.2222222222222222,\"#7201a8\"],[0.3333333333333333,\"#9c179e\"],[0.4444444444444444,\"#bd3786\"],[0.5555555555555556,\"#d8576b\"],[0.6666666666666666,\"#ed7953\"],[0.7777777777777778,\"#fb9f3a\"],[0.8888888888888888,\"#fdca26\"],[1.0,\"#f0f921\"]]}],\"heatmap\":[{\"type\":\"heatmap\",\"colorbar\":{\"outlinewidth\":0,\"ticks\":\"\"},\"colorscale\":[[0.0,\"#0d0887\"],[0.1111111111111111,\"#46039f\"],[0.2222222222222222,\"#7201a8\"],[0.3333333333333333,\"#9c179e\"],[0.4444444444444444,\"#bd3786\"],[0.5555555555555556,\"#d8576b\"],[0.6666666666666666,\"#ed7953\"],[0.7777777777777778,\"#fb9f3a\"],[0.8888888888888888,\"#fdca26\"],[1.0,\"#f0f921\"]]}],\"heatmapgl\":[{\"type\":\"heatmapgl\",\"colorbar\":{\"outlinewidth\":0,\"ticks\":\"\"},\"colorscale\":[[0.0,\"#0d0887\"],[0.1111111111111111,\"#46039f\"],[0.2222222222222222,\"#7201a8\"],[0.3333333333333333,\"#9c179e\"],[0.4444444444444444,\"#bd3786\"],[0.5555555555555556,\"#d8576b\"],[0.6666666666666666,\"#ed7953\"],[0.7777777777777778,\"#fb9f3a\"],[0.8888888888888888,\"#fdca26\"],[1.0,\"#f0f921\"]]}],\"contourcarpet\":[{\"type\":\"contourcarpet\",\"colorbar\":{\"outlinewidth\":0,\"ticks\":\"\"}}],\"contour\":[{\"type\":\"contour\",\"colorbar\":{\"outlinewidth\":0,\"ticks\":\"\"},\"colorscale\":[[0.0,\"#0d0887\"],[0.1111111111111111,\"#46039f\"],[0.2222222222222222,\"#7201a8\"],[0.3333333333333333,\"#9c179e\"],[0.4444444444444444,\"#bd3786\"],[0.5555555555555556,\"#d8576b\"],[0.6666666666666666,\"#ed7953\"],[0.7777777777777778,\"#fb9f3a\"],[0.8888888888888888,\"#fdca26\"],[1.0,\"#f0f921\"]]}],\"surface\":[{\"type\":\"surface\",\"colorbar\":{\"outlinewidth\":0,\"ticks\":\"\"},\"colorscale\":[[0.0,\"#0d0887\"],[0.1111111111111111,\"#46039f\"],[0.2222222222222222,\"#7201a8\"],[0.3333333333333333,\"#9c179e\"],[0.4444444444444444,\"#bd3786\"],[0.5555555555555556,\"#d8576b\"],[0.6666666666666666,\"#ed7953\"],[0.7777777777777778,\"#fb9f3a\"],[0.8888888888888888,\"#fdca26\"],[1.0,\"#f0f921\"]]}],\"mesh3d\":[{\"type\":\"mesh3d\",\"colorbar\":{\"outlinewidth\":0,\"ticks\":\"\"}}],\"scatter\":[{\"marker\":{\"line\":{\"color\":\"#283442\"}},\"type\":\"scatter\"}],\"parcoords\":[{\"type\":\"parcoords\",\"line\":{\"colorbar\":{\"outlinewidth\":0,\"ticks\":\"\"}}}],\"scatterpolargl\":[{\"type\":\"scatterpolargl\",\"marker\":{\"colorbar\":{\"outlinewidth\":0,\"ticks\":\"\"}}}],\"bar\":[{\"error_x\":{\"color\":\"#f2f5fa\"},\"error_y\":{\"color\":\"#f2f5fa\"},\"marker\":{\"line\":{\"color\":\"rgb(17,17,17)\",\"width\":0.5},\"pattern\":{\"fillmode\":\"overlay\",\"size\":10,\"solidity\":0.2}},\"type\":\"bar\"}],\"scattergeo\":[{\"type\":\"scattergeo\",\"marker\":{\"colorbar\":{\"outlinewidth\":0,\"ticks\":\"\"}}}],\"scatterpolar\":[{\"type\":\"scatterpolar\",\"marker\":{\"colorbar\":{\"outlinewidth\":0,\"ticks\":\"\"}}}],\"histogram\":[{\"marker\":{\"pattern\":{\"fillmode\":\"overlay\",\"size\":10,\"solidity\":0.2}},\"type\":\"histogram\"}],\"scattergl\":[{\"marker\":{\"line\":{\"color\":\"#283442\"}},\"type\":\"scattergl\"}],\"scatter3d\":[{\"type\":\"scatter3d\",\"line\":{\"colorbar\":{\"outlinewidth\":0,\"ticks\":\"\"}},\"marker\":{\"colorbar\":{\"outlinewidth\":0,\"ticks\":\"\"}}}],\"scattermapbox\":[{\"type\":\"scattermapbox\",\"marker\":{\"colorbar\":{\"outlinewidth\":0,\"ticks\":\"\"}}}],\"scatterternary\":[{\"type\":\"scatterternary\",\"marker\":{\"colorbar\":{\"outlinewidth\":0,\"ticks\":\"\"}}}],\"scattercarpet\":[{\"type\":\"scattercarpet\",\"marker\":{\"colorbar\":{\"outlinewidth\":0,\"ticks\":\"\"}}}],\"carpet\":[{\"aaxis\":{\"endlinecolor\":\"#A2B1C6\",\"gridcolor\":\"#506784\",\"linecolor\":\"#506784\",\"minorgridcolor\":\"#506784\",\"startlinecolor\":\"#A2B1C6\"},\"baxis\":{\"endlinecolor\":\"#A2B1C6\",\"gridcolor\":\"#506784\",\"linecolor\":\"#506784\",\"minorgridcolor\":\"#506784\",\"startlinecolor\":\"#A2B1C6\"},\"type\":\"carpet\"}],\"table\":[{\"cells\":{\"fill\":{\"color\":\"#506784\"},\"line\":{\"color\":\"rgb(17,17,17)\"}},\"header\":{\"fill\":{\"color\":\"#2a3f5f\"},\"line\":{\"color\":\"rgb(17,17,17)\"}},\"type\":\"table\"}],\"barpolar\":[{\"marker\":{\"line\":{\"color\":\"rgb(17,17,17)\",\"width\":0.5},\"pattern\":{\"fillmode\":\"overlay\",\"size\":10,\"solidity\":0.2}},\"type\":\"barpolar\"}],\"pie\":[{\"automargin\":true,\"type\":\"pie\"}]},\"layout\":{\"autotypenumbers\":\"strict\",\"colorway\":[\"#636efa\",\"#EF553B\",\"#00cc96\",\"#ab63fa\",\"#FFA15A\",\"#19d3f3\",\"#FF6692\",\"#B6E880\",\"#FF97FF\",\"#FECB52\"],\"font\":{\"color\":\"#f2f5fa\"},\"hovermode\":\"closest\",\"hoverlabel\":{\"align\":\"left\"},\"paper_bgcolor\":\"rgb(17,17,17)\",\"plot_bgcolor\":\"rgb(17,17,17)\",\"polar\":{\"bgcolor\":\"rgb(17,17,17)\",\"angularaxis\":{\"gridcolor\":\"#506784\",\"linecolor\":\"#506784\",\"ticks\":\"\"},\"radialaxis\":{\"gridcolor\":\"#506784\",\"linecolor\":\"#506784\",\"ticks\":\"\"}},\"ternary\":{\"bgcolor\":\"rgb(17,17,17)\",\"aaxis\":{\"gridcolor\":\"#506784\",\"linecolor\":\"#506784\",\"ticks\":\"\"},\"baxis\":{\"gridcolor\":\"#506784\",\"linecolor\":\"#506784\",\"ticks\":\"\"},\"caxis\":{\"gridcolor\":\"#506784\",\"linecolor\":\"#506784\",\"ticks\":\"\"}},\"coloraxis\":{\"colorbar\":{\"outlinewidth\":0,\"ticks\":\"\"}},\"colorscale\":{\"sequential\":[[0.0,\"#0d0887\"],[0.1111111111111111,\"#46039f\"],[0.2222222222222222,\"#7201a8\"],[0.3333333333333333,\"#9c179e\"],[0.4444444444444444,\"#bd3786\"],[0.5555555555555556,\"#d8576b\"],[0.6666666666666666,\"#ed7953\"],[0.7777777777777778,\"#fb9f3a\"],[0.8888888888888888,\"#fdca26\"],[1.0,\"#f0f921\"]],\"sequentialminus\":[[0.0,\"#0d0887\"],[0.1111111111111111,\"#46039f\"],[0.2222222222222222,\"#7201a8\"],[0.3333333333333333,\"#9c179e\"],[0.4444444444444444,\"#bd3786\"],[0.5555555555555556,\"#d8576b\"],[0.6666666666666666,\"#ed7953\"],[0.7777777777777778,\"#fb9f3a\"],[0.8888888888888888,\"#fdca26\"],[1.0,\"#f0f921\"]],\"diverging\":[[0,\"#8e0152\"],[0.1,\"#c51b7d\"],[0.2,\"#de77ae\"],[0.3,\"#f1b6da\"],[0.4,\"#fde0ef\"],[0.5,\"#f7f7f7\"],[0.6,\"#e6f5d0\"],[0.7,\"#b8e186\"],[0.8,\"#7fbc41\"],[0.9,\"#4d9221\"],[1,\"#276419\"]]},\"xaxis\":{\"gridcolor\":\"#283442\",\"linecolor\":\"#506784\",\"ticks\":\"\",\"title\":{\"standoff\":15},\"zerolinecolor\":\"#283442\",\"automargin\":true,\"zerolinewidth\":2},\"yaxis\":{\"gridcolor\":\"#283442\",\"linecolor\":\"#506784\",\"ticks\":\"\",\"title\":{\"standoff\":15},\"zerolinecolor\":\"#283442\",\"automargin\":true,\"zerolinewidth\":2},\"scene\":{\"xaxis\":{\"backgroundcolor\":\"rgb(17,17,17)\",\"gridcolor\":\"#506784\",\"linecolor\":\"#506784\",\"showbackground\":true,\"ticks\":\"\",\"zerolinecolor\":\"#C8D4E3\",\"gridwidth\":2},\"yaxis\":{\"backgroundcolor\":\"rgb(17,17,17)\",\"gridcolor\":\"#506784\",\"linecolor\":\"#506784\",\"showbackground\":true,\"ticks\":\"\",\"zerolinecolor\":\"#C8D4E3\",\"gridwidth\":2},\"zaxis\":{\"backgroundcolor\":\"rgb(17,17,17)\",\"gridcolor\":\"#506784\",\"linecolor\":\"#506784\",\"showbackground\":true,\"ticks\":\"\",\"zerolinecolor\":\"#C8D4E3\",\"gridwidth\":2}},\"shapedefaults\":{\"line\":{\"color\":\"#f2f5fa\"}},\"annotationdefaults\":{\"arrowcolor\":\"#f2f5fa\",\"arrowhead\":0,\"arrowwidth\":1},\"geo\":{\"bgcolor\":\"rgb(17,17,17)\",\"landcolor\":\"rgb(17,17,17)\",\"subunitcolor\":\"#506784\",\"showland\":true,\"showlakes\":true,\"lakecolor\":\"rgb(17,17,17)\"},\"title\":{\"x\":0.05},\"updatemenudefaults\":{\"bgcolor\":\"#506784\",\"borderwidth\":0},\"sliderdefaults\":{\"bgcolor\":\"#C8D4E3\",\"borderwidth\":1,\"bordercolor\":\"rgb(17,17,17)\",\"tickwidth\":0},\"mapbox\":{\"style\":\"dark\"}}},\"xaxis\":{\"anchor\":\"y\",\"domain\":[0.0,1.0],\"title\":{\"text\":\"Evaluation Metrics\"}},\"yaxis\":{\"anchor\":\"x\",\"domain\":[0.0,1.0],\"title\":{\"text\":\"Score\"}},\"legend\":{\"title\":{\"text\":\"Models\"},\"tracegroupgap\":0},\"title\":{\"text\":\"Model Performance Comparison\"},\"barmode\":\"group\",\"width\":1000,\"height\":500},                        {\"responsive\": true}                    ).then(function(){\n",
       "                            \n",
       "var gd = document.getElementById('cc4eee97-0ae5-4ebd-8031-fa4d292993e8');\n",
       "var x = new MutationObserver(function (mutations, observer) {{\n",
       "        var display = window.getComputedStyle(gd).display;\n",
       "        if (!display || display === 'none') {{\n",
       "            console.log([gd, 'removed!']);\n",
       "            Plotly.purge(gd);\n",
       "            observer.disconnect();\n",
       "        }}\n",
       "}});\n",
       "\n",
       "// Listen for the removal of the full notebook cells\n",
       "var notebookContainer = gd.closest('#notebook-container');\n",
       "if (notebookContainer) {{\n",
       "    x.observe(notebookContainer, {childList: true});\n",
       "}}\n",
       "\n",
       "// Listen for the clearing of the current output cell\n",
       "var outputEl = gd.closest('.output');\n",
       "if (outputEl) {{\n",
       "    x.observe(outputEl, {childList: true});\n",
       "}}\n",
       "\n",
       "                        })                };                });            </script>        </div>"
      ]
     },
     "metadata": {},
     "output_type": "display_data"
    }
   ],
   "execution_count": 282
  },
  {
   "cell_type": "markdown",
   "metadata": {},
   "source": [
    "\n",
    "\n",
    "\n",
    "# Customer Churn Prediction Model Evaluation\n",
    "\n",
    "## Problem Statement\n",
    "\n",
    "Predicting customer churn is a critical task for telecommunications companies aiming to retain their customers and reduce revenue loss. **Customer churn** refers to the phenomenon where customers discontinue using the company's services. By accurately predicting which customers are likely to churn, companies can take proactive measures—such as targeted marketing campaigns, personalized offers, or improved customer service—to enhance customer satisfaction and retention.\n",
    "\n",
    "## Models Evaluated\n",
    "\n",
    "Four machine learning models have been trained to predict customer churn:\n",
    "\n",
    "- **Decision Tree**\n",
    "- **Logistic Regression**\n",
    "- **K-Nearest Neighbors (KNN)**\n",
    "- **Random Forest**\n",
    "\n",
    "These models were evaluated based on the following performance metrics:\n",
    "\n",
    "- **Accuracy:** The overall correctness of the model.\n",
    "- **Precision:** The proportion of predicted churners that are actual churners.\n",
    "- **Recall:** The proportion of actual churners that the model successfully identifies.\n",
    "- **F1-Score:** The harmonic mean of precision and recall, offering a balance between them.\n",
    "- **AUC-ROC:** The model's ability to distinguish between churn and non-churn cases.\n",
    "\n",
    "## Performance Metrics Table\n",
    "\n",
    "| Model                   | Accuracy | Precision | Recall | F1-Score | AUC-ROC |\n",
    "|-------------------------|----------|-----------|--------|----------|---------|\n",
    "| **Decision Tree**       | 0.507    | 0.516     | 0.468  | 0.491    | 0.508   |\n",
    "| **Logistic Regression** | 0.507    | 0.507     | 1.000  | 0.673    | 0.500   |\n",
    "| **KNN**                 | 0.502    | 0.510     | 0.501  | 0.505    | 0.502   |\n",
    "| **Random Forest**       | 0.504    | 0.511     | 0.514  | 0.513    | 0.504   |\n",
    "\n",
    "## Best Model Selection\n",
    "\n",
    "### **Logistic Regression** is identified as the best model for customer churn prediction.\n",
    "\n",
    "### Justification:\n",
    "\n",
    "1. **Highest Recall (1.000):**\n",
    "   - **Recall** is critical in churn prediction because it measures the model’s ability to identify all actual churn cases. Missing any potential churner (false negative) could result in significant revenue loss. With a recall of 1.000, Logistic Regression ensures that every potential churn case is flagged for intervention.\n",
    "\n",
    "2. **Superior F1-Score (0.673):**\n",
    "   - The **F1-Score** balances precision and recall. A higher F1-Score indicates that the model maintains a good balance between correctly identifying churners and minimizing false positives. Logistic Regression's F1-Score of 0.673 demonstrates that it effectively handles this trade-off.\n",
    "\n",
    "3. **Business Impact:**\n",
    "   - In churn prediction, the cost of not identifying a churner (false negative) is typically far more damaging than the cost of falsely predicting churn (false positive). Hence, a model with exceptional recall is preferable. Logistic Regression’s ability to catch all potential churners directly supports the business goal of reducing revenue loss.\n",
    "\n",
    "4. **Model Simplicity and Interpretability:**\n",
    "   - Logistic Regression is not only effective but also simple and interpretable. This makes it easier for stakeholders to understand the decision-making process, thereby fostering trust in the model’s predictions.\n",
    "\n",
    "### Considerations:\n",
    "\n",
    "- **AUC-ROC:** Although Logistic Regression has a slightly lower AUC-ROC score (0.500) compared to some other models, this metric is less critical in scenarios where missing a potential churner can have serious consequences. The marginal differences in AUC-ROC among the models mean that recall and F1-Score are more decisive in this context.\n",
    "- **Trade-offs:** Every model has its strengths and weaknesses, but in the realm of customer churn, ensuring that no potential churner is overlooked is paramount. Thus, the benefits of high recall outweigh the slight shortcomings in other metrics.\n",
    "\n",
    "## Conclusion\n",
    "\n",
    "For the customer churn prediction task, **Logistic Regression** is the most suitable model. Its exceptional recall ensures that all potential churners are identified, while its balanced F1-Score indicates robust overall performance. This makes it an ideal choice for telecommunications companies seeking to implement effective strategies for customer retention and revenue protection.\n"
   ]
  },
  {
   "metadata": {
    "ExecuteTime": {
     "end_time": "2025-02-16T15:36:39.028321Z",
     "start_time": "2025-02-16T15:36:39.022040Z"
    }
   },
   "cell_type": "code",
   "source": "",
   "outputs": [],
   "execution_count": null
  }
 ],
 "metadata": {
  "kernelspec": {
   "display_name": "Python 3 (ipykernel)",
   "language": "python",
   "name": "python3"
  },
  "language_info": {
   "codemirror_mode": {
    "name": "ipython",
    "version": 3
   },
   "file_extension": ".py",
   "mimetype": "text/x-python",
   "name": "python",
   "nbconvert_exporter": "python",
   "pygments_lexer": "ipython3",
   "version": "3.11.5"
  }
 },
 "nbformat": 4,
 "nbformat_minor": 4
}
